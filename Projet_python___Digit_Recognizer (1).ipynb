{
  "nbformat": 4,
  "nbformat_minor": 0,
  "metadata": {
    "colab": {
      "name": "Projet python _ Digit Recognizer.ipynb",
      "provenance": [],
      "collapsed_sections": [
        "fM1VvgLb9ORc",
        "H8IlL8r95W5U",
        "VD7-ioMm4yYX",
        "gxOmlRmHFkf8",
        "-xu1261MF3eO",
        "xnrIvT8t4yYm",
        "sSOsoKO04yYp",
        "dua5TC-vkLoH",
        "9OJkNEJTkdmI",
        "tLKHLuJJkhC1"
      ]
    },
    "kernelspec": {
      "display_name": "Python 3",
      "language": "python",
      "name": "python3"
    },
    "language_info": {
      "codemirror_mode": {
        "name": "ipython",
        "version": 3
      },
      "file_extension": ".py",
      "mimetype": "text/x-python",
      "name": "python",
      "nbconvert_exporter": "python",
      "pygments_lexer": "ipython3",
      "version": "3.6.10"
    }
  },
  "cells": [
    {
      "cell_type": "markdown",
      "metadata": {
        "id": "6yUl2HmM2kFP"
      },
      "source": [
        "# **Importation des différentes bases et librairies**"
      ]
    },
    {
      "cell_type": "code",
      "metadata": {
        "id": "h8LM8yxZ2d2z"
      },
      "source": [
        "###########Importation des différentes librairies############\n",
        "\n",
        "import pandas as pd \n",
        "import numpy as np \n",
        "import keras as ks\n",
        "import matplotlib.pyplot as plt #Graphiques basiques\n",
        "import matplotlib.image as mpimg #image en trois dimensions (avec couleur)\n",
        "import seaborn as sns #Diagrammes en barres \n",
        "import itertools\n",
        "%matplotlib inline\n",
        "\n",
        "np.random.seed(2)\n",
        "\n",
        "from sklearn.model_selection import train_test_split #Tests de validation croisée\n",
        "from sklearn import metrics #Calculs des taux de prédition\n",
        "from sklearn.metrics import accuracy_score\n",
        "from sklearn.model_selection import cross_val_score\n",
        "from sklearn.metrics import confusion_matrix #Matrice de confusion\n",
        "#from keras.utils.np_utils import to_categorical\n",
        "#from keras.preprocessing.image import ImageDataGenerator\n",
        "\n",
        "sns.set(style='white', context='notebook', palette='deep')"
      ],
      "execution_count": null,
      "outputs": []
    },
    {
      "cell_type": "code",
      "metadata": {
        "id": "DZdTbveTfgVn"
      },
      "source": [
        "###########Importations des bases############  \n",
        "\n",
        "#Importation des bases situées sur mon drive\n",
        "from google.colab import drive\n",
        "drive.mount('/content/gdrive')\n",
        "train = pd.read_csv('/content/gdrive/My Drive/IAE/M2-S1/Python/Projet python/Bases/train.csv',sep =\",\")\n",
        "test = pd.read_csv('/content/gdrive/My Drive/IAE/M2-S1/Python/Projet python/Bases/test.csv', sep=\",\")"
      ],
      "execution_count": null,
      "outputs": []
    },
    {
      "cell_type": "markdown",
      "metadata": {
        "id": "fM1VvgLb9ORc"
      },
      "source": [
        "# **Traitement préliminaire de la base**"
      ]
    },
    {
      "cell_type": "code",
      "metadata": {
        "colab": {
          "base_uri": "https://localhost:8080/"
        },
        "id": "0fmIYlLOYlCL",
        "outputId": "3b61d216-59fb-414d-9f05-f38da93c8ebe"
      },
      "source": [
        "# Partitionnement de la base avec train_test_split\n",
        "     # on prend 5000 obs pour train soit 11.9% de la base initiale \n",
        "     # on prend 1000 obs pour test soit 2.38% de la base initiale\n",
        "from sklearn.model_selection import train_test_split\n",
        "\n",
        "# Définition des variables\n",
        "Y = train[\"label\"]\n",
        "X = train.drop(labels = [\"label\"],axis = 1) \n",
        "\n",
        "# Split\n",
        "X_train, X_test, Y_train, Y_test = train_test_split(X, Y, test_size=1/42, train_size=5/42)\n",
        "    #étant donné qu'il s'agit d'un partitionnement aléatoire les résultats seront légèrement différents d'un split à l'autre\n",
        "\n",
        "Y_train=np.ravel(Y_train)\n",
        "Y_test=np.ravel(Y_test)\n",
        "\n",
        "# Dimensions\n",
        "print(X_train.shape)\n",
        "print(Y_train.shape)\n",
        "print(X_test.shape)\n",
        "print(Y_test.shape)"
      ],
      "execution_count": null,
      "outputs": [
        {
          "output_type": "stream",
          "text": [
            "(5000, 784)\n",
            "(5000,)\n",
            "(1000, 784)\n",
            "(1000,)\n"
          ],
          "name": "stdout"
        }
      ]
    },
    {
      "cell_type": "markdown",
      "metadata": {
        "id": "H8IlL8r95W5U"
      },
      "source": [
        "# **Statistiques descriptives**"
      ]
    },
    {
      "cell_type": "code",
      "metadata": {
        "colab": {
          "base_uri": "https://localhost:8080/",
          "height": 342
        },
        "id": "TlDNSVRculXm",
        "outputId": "fd3f5041-0859-4058-da6e-0a80b393fead"
      },
      "source": [
        "#Distribution de la variable Y\n",
        "sns.countplot(Y_train)"
      ],
      "execution_count": null,
      "outputs": [
        {
          "output_type": "stream",
          "text": [
            "/usr/local/lib/python3.6/dist-packages/seaborn/_decorators.py:43: FutureWarning: Pass the following variable as a keyword arg: x. From version 0.12, the only valid positional argument will be `data`, and passing other arguments without an explicit keyword will result in an error or misinterpretation.\n",
            "  FutureWarning\n"
          ],
          "name": "stderr"
        },
        {
          "output_type": "execute_result",
          "data": {
            "text/plain": [
              "<matplotlib.axes._subplots.AxesSubplot at 0x7fb3404f6198>"
            ]
          },
          "metadata": {
            "tags": []
          },
          "execution_count": 4
        },
        {
          "output_type": "display_data",
          "data": {
            "image/png": "[encoded data removed]",
            "text/plain": [
              "<Figure size 432x288 with 1 Axes>"
            ]
          },
          "metadata": {
            "tags": []
          }
        }
      ]
    },
    {
      "cell_type": "code",
      "metadata": {
        "colab": {
          "base_uri": "https://localhost:8080/",
          "height": 268
        },
        "id": "RrGz31vixs6n",
        "outputId": "2691db50-8746-47c4-d5b9-46046e8ffc79"
      },
      "source": [
        "#On normalise les données \n",
        "X_train_scaled = X_train / 255.0\n",
        "X_test_scaled = X_test / 255.0\n",
        "\n",
        "#On met les données en trois dimensions pour les aficher dans un graphique \n",
        "#(hauteur = 28px, largeur = 28px , puissance du trait 0<x<1)\n",
        "X_train_reshaped = X_train_scaled.values.reshape(-1,28,28,1)\n",
        "#test = test.values.reshape(-1,28,28,1)\n",
        "\n",
        "#On affiche l'image \n",
        "g = plt.imshow(X_train_reshaped[0][:,:,0])"
      ],
      "execution_count": null,
      "outputs": [
        {
          "output_type": "display_data",
          "data": {
            "image/png": "[encoded data removed]",
            "text/plain": [
              "<Figure size 432x288 with 1 Axes>"
            ]
          },
          "metadata": {
            "tags": []
          }
        }
      ]
    },
    {
      "cell_type": "markdown",
      "metadata": {
        "id": "VD7-ioMm4yYX"
      },
      "source": [
        "# **Classification KNN (commentaires détaillés pour l'exemple)**\n",
        "\n",
        "\n"
      ]
    },
    {
      "cell_type": "markdown",
      "metadata": {
        "id": "gxOmlRmHFkf8"
      },
      "source": [
        ">## Tests In-Sample"
      ]
    },
    {
      "cell_type": "code",
      "metadata": {
        "colab": {
          "base_uri": "https://localhost:8080/"
        },
        "id": "-uE08zW9Fila",
        "outputId": "c9203bc1-126d-4317-8c84-91e9b01275ee"
      },
      "source": [
        "#On va réaliser ici un modèle sur l'ensemble de la base et le tester sur cette même base\n",
        "\n",
        "from sklearn.neighbors import KNeighborsClassifier # On importe la fonction K-Nearest\n",
        "knn=KNeighborsClassifier(n_neighbors=3)\n",
        "# On définit les paramètres de notre modèle k-nearest \n",
        "#(ici le nombre de plus proches voisins=3)\n",
        "\n",
        "knn.fit(X_train, Y_train) # On ajuste ('fit') notre modèle sur notre jeu d'entrainement\n",
        "\n",
        "#Qualité de prévision sur l'échantillon d'entrainement (in-sample) (Taux de bonne prédiction)\n",
        "#On cherche ici à savoir si le modèle est bon pour prédire la classe des observations sur lesquelles il s'est entrainé\n",
        "#Analogie avec l'élève qui calcule son niveau en refaisant les exercices qu'il a déjà fait \n",
        "#et regarde ensuite sa proportion de bonnes réponses.\n",
        "\n",
        "knn.score(X_train,Y_train)\n",
        "\n",
        "#Le modèle réussi à bien prédire 96,64% des classes des observations sur lesquelles il s'est déjà entrainé.\n",
        "#Analogie : l'élève réussi 96,64% des exercies qu'il a déjà fait."
      ],
      "execution_count": null,
      "outputs": [
        {
          "output_type": "execute_result",
          "data": {
            "text/plain": [
              "0.9664"
            ]
          },
          "metadata": {
            "tags": []
          },
          "execution_count": 6
        }
      ]
    },
    {
      "cell_type": "markdown",
      "metadata": {
        "id": "-xu1261MF3eO"
      },
      "source": [
        ">## Test par cross-validation hors échantillon d'entrainement"
      ]
    },
    {
      "cell_type": "code",
      "metadata": {
        "colab": {
          "base_uri": "https://localhost:8080/"
        },
        "id": "oxphaz7h4yYY",
        "outputId": "8966eacd-e446-4b37-a611-9a6c6fdb71ae"
      },
      "source": [
        "#La validation croisée permet plusieurs choses : \n",
        "#Donner une meilleure précision du taux d'erreur hors échantillon d'entrainement et/ou augmenter la qualité \n",
        "#d'ajustement des paramêtres d'un modèle (exemple régression linéaire par MCO)\n",
        "#Ici nous allons nous interesser à la première fonctionalité, la deuxième est utilisée plus bas.\n",
        "\n",
        "\n",
        "# Pour éviter cela, nous allons tester plusieurs découpages différents à l'aide de la validation croisée:\n",
        "\n",
        "#Etape 1:\n",
        "#L'idée est ici de diviser notre base de départ en k morceaux (K-folds), (par exemple 10).\n",
        "\n",
        "#Etape 2: \n",
        "#Laisser un morceau de côté et prendre les autres morceaux (ici 9) pour créer une base d'entrainement.\n",
        "\n",
        "#Etape 3:\n",
        "# Ajuster le modèle sur la base d'entrainement (comprenant 90% des observations)\n",
        "\n",
        "#Etape 4 :\n",
        "# Tester le modèle sur le morceau que l'on a mit de côté (10% des obs), \n",
        "#on regarde le taux de prédiction et on le conserve.\n",
        "\n",
        "#Etape 5:\n",
        "#On réitère les étapes 2 à 4 pour tous les morceaux (10) et on calcule la moyenne des taux de prédiction trouvés, \n",
        "#on obtient le taux de prédiction (=1-Taux d'erreur) de cross-validation (moyenne des 10 taux trouvés)\n",
        "\n",
        "#Code :\n",
        "\n",
        "knn=KNeighborsClassifier(n_neighbors=3)\n",
        "cv_results = cross_val_score(knn, X_train, Y_train, cv=10)\n",
        "\n",
        "moyenne_cv_results = cv_results.mean()\n",
        "print(\"Taux de prédiction trouvés : {}\" .format(cv_results))\n",
        "print(\"Taux de prédiction de Cross-Validation (moyenne) : {}\" .format(moyenne_cv_results))\n",
        "\n",
        "#Le taux moyen de bonne prediction est de 93,24% sur les 10 ajustements/tests de modèles.\n",
        "# Le taux est moins bon mais plus révélateur de ce que pourra nous fournir le modèle sur l'échantillon test \n",
        "\n",
        "#Analogie : l'élève réussi en moyenne 93,24% des exercies qu'il n'avait pas fait auparavant ."
      ],
      "execution_count": null,
      "outputs": [
        {
          "output_type": "stream",
          "text": [
            "Taux de prédiction trouvés : [0.938 0.93  0.944 0.916 0.926 0.926 0.938 0.952 0.942 0.912]\n",
            "Taux de prédiction de Cross-Validation (moyenne) : 0.9324\n"
          ],
          "name": "stdout"
        }
      ]
    },
    {
      "cell_type": "markdown",
      "metadata": {
        "id": "sszP-mpLTkAi"
      },
      "source": [
        ">## Prévision des données de la base test (Out of sample forecasting)\n",
        "(Ici on ajuste notre modèle sans passer par la cross validation pour les ajustements des paramètres)"
      ]
    },
    {
      "cell_type": "code",
      "metadata": {
        "colab": {
          "base_uri": "https://localhost:8080/"
        },
        "id": "qXuF55KTTxTg",
        "outputId": "7fa4eea0-0ac1-402b-ef2f-4c16fcbe7508"
      },
      "source": [
        "#On entraine d'abord notre modèle sur notre base de données train\n",
        "knn=KNeighborsClassifier(n_neighbors=3)\n",
        "knn.fit(X_train,Y_train)\n",
        "Y_pred=knn.predict(X_test)\n",
        "\n",
        "print(\"Taux de prédiction sur le jeu de données test:\", metrics.accuracy_score(Y_test, Y_pred), \"\\n\") #Taux de bonne prédiction\n",
        "print(metrics.confusion_matrix(Y_test, Y_pred)) #Matrice de confusion\n",
        "\n",
        "#92,4% de bonnes prédictions\n"
      ],
      "execution_count": null,
      "outputs": [
        {
          "output_type": "stream",
          "text": [
            "Taux de prédiction sur le jeu de données test: 0.924 \n",
            "\n",
            "[[101   0   0   0   0   0   0   0   0   0]\n",
            " [  0 113   0   1   0   0   0   0   0   0]\n",
            " [  0   3  80   1   1   0   0   2   1   0]\n",
            " [  2   2   2  91   0   0   0   0   1   0]\n",
            " [  0   3   0   0 103   0   1   0   0   5]\n",
            " [  0   1   0   3   0  82   1   0   1   2]\n",
            " [  2   0   0   0   1   2  88   0   0   0]\n",
            " [  0   4   0   1   0   0   0  82   0   3]\n",
            " [  0   1   0   7   0   3   0   1  89   5]\n",
            " [  2   0   1   1   2   0   0   7   0  95]]\n"
          ],
          "name": "stdout"
        }
      ]
    },
    {
      "cell_type": "markdown",
      "metadata": {
        "id": "xnrIvT8t4yYm"
      },
      "source": [
        "# **Regression logistique multinomiale (méthode non-paramétrique)**\n"
      ]
    },
    {
      "cell_type": "code",
      "metadata": {
        "colab": {
          "base_uri": "https://localhost:8080/"
        },
        "id": "_Ty1G58T4yYn",
        "outputId": "8c2b71cb-d64a-4bfc-aef4-90e77b73be25"
      },
      "source": [
        "from sklearn.linear_model import LogisticRegression\n",
        "from sklearn import preprocessing\n",
        "\n",
        "#On centre-réduit nos variables explicatives sinon l'algorithme risque de ne pas converger\n",
        "#vers des coefficients finis.\n",
        "X_scaled_train = preprocessing.scale(X_train)\n",
        "X_scaled_test = preprocessing.scale(X_test)\n",
        "\n",
        "logreg = LogisticRegression()\n",
        "logreg.fit(X_scaled_train,Y_train)\n",
        "\n",
        "#Taux de prédiction sur l'échantillon d'entrainement(in-sample), ici toute la base : 100%\n",
        "print(\"Taux de prédiction sur échantillon d'entrainement : {}\" .format(logreg.score(X_scaled_train,Y_train)))\n",
        "\n",
        "#Taux de prédiction moyen à l'aide de la cross validation:\n",
        "cv_results = cross_val_score(logreg, X_scaled_train, Y_train, cv=10)\n",
        "moyenne_cv_results = cv_results.mean()\n",
        "print(\"Taux dde prédiction trouvés : {}\" .format(cv_results))\n",
        "print(\"Taux de prédiction de Cross-Validation (moyenne) : {}\" .format(moyenne_cv_results))\n",
        "\n",
        "#Le taux moyen de bonne prediction est de 88,6% sur les 10 test de modèles,\n",
        "#ce qui est moins bon qu'avec la méthode des plus proches voisins (KNN)(-2%)\n",
        "\n",
        "#On va maintenant essayer de prédire les classes de la base test \n",
        "#On entraine d'abord notre modèle sur notre base de données train\n",
        "logreg.fit(X_scaled_train,Y_train)\n",
        "Y_pred=logreg.predict(X_scaled_test)\n",
        "\n",
        "print(\"Taux de prédiction sur le jeu de données test:\", metrics.accuracy_score(Y_test, Y_pred), \"\\n\") #Taux de bonne prédiction\n",
        "print(metrics.confusion_matrix(Y_test, Y_pred)) #Matrice de confusion\n",
        "\n",
        "#88,24% de bonnes prédictions, moins bon que k-nn"
      ],
      "execution_count": null,
      "outputs": [
        {
          "output_type": "stream",
          "text": [
            "/usr/local/lib/python3.6/dist-packages/sklearn/linear_model/_logistic.py:940: ConvergenceWarning: lbfgs failed to converge (status=1):\n",
            "STOP: TOTAL NO. of ITERATIONS REACHED LIMIT.\n",
            "\n",
            "Increase the number of iterations (max_iter) or scale the data as shown in:\n",
            "    https://scikit-learn.org/stable/modules/preprocessing.html\n",
            "Please also refer to the documentation for alternative solver options:\n",
            "    https://scikit-learn.org/stable/modules/linear_model.html#logistic-regression\n",
            "  extra_warning_msg=_LOGISTIC_SOLVER_CONVERGENCE_MSG)\n"
          ],
          "name": "stderr"
        },
        {
          "output_type": "stream",
          "text": [
            "Taux de prédiction sur échantillon d'entrainement : 1.0\n"
          ],
          "name": "stdout"
        },
        {
          "output_type": "stream",
          "text": [
            "/usr/local/lib/python3.6/dist-packages/sklearn/linear_model/_logistic.py:940: ConvergenceWarning: lbfgs failed to converge (status=1):\n",
            "STOP: TOTAL NO. of ITERATIONS REACHED LIMIT.\n",
            "\n",
            "Increase the number of iterations (max_iter) or scale the data as shown in:\n",
            "    https://scikit-learn.org/stable/modules/preprocessing.html\n",
            "Please also refer to the documentation for alternative solver options:\n",
            "    https://scikit-learn.org/stable/modules/linear_model.html#logistic-regression\n",
            "  extra_warning_msg=_LOGISTIC_SOLVER_CONVERGENCE_MSG)\n",
            "/usr/local/lib/python3.6/dist-packages/sklearn/linear_model/_logistic.py:940: ConvergenceWarning: lbfgs failed to converge (status=1):\n",
            "STOP: TOTAL NO. of ITERATIONS REACHED LIMIT.\n",
            "\n",
            "Increase the number of iterations (max_iter) or scale the data as shown in:\n",
            "    https://scikit-learn.org/stable/modules/preprocessing.html\n",
            "Please also refer to the documentation for alternative solver options:\n",
            "    https://scikit-learn.org/stable/modules/linear_model.html#logistic-regression\n",
            "  extra_warning_msg=_LOGISTIC_SOLVER_CONVERGENCE_MSG)\n",
            "/usr/local/lib/python3.6/dist-packages/sklearn/linear_model/_logistic.py:940: ConvergenceWarning: lbfgs failed to converge (status=1):\n",
            "STOP: TOTAL NO. of ITERATIONS REACHED LIMIT.\n",
            "\n",
            "Increase the number of iterations (max_iter) or scale the data as shown in:\n",
            "    https://scikit-learn.org/stable/modules/preprocessing.html\n",
            "Please also refer to the documentation for alternative solver options:\n",
            "    https://scikit-learn.org/stable/modules/linear_model.html#logistic-regression\n",
            "  extra_warning_msg=_LOGISTIC_SOLVER_CONVERGENCE_MSG)\n",
            "/usr/local/lib/python3.6/dist-packages/sklearn/linear_model/_logistic.py:940: ConvergenceWarning: lbfgs failed to converge (status=1):\n",
            "STOP: TOTAL NO. of ITERATIONS REACHED LIMIT.\n",
            "\n",
            "Increase the number of iterations (max_iter) or scale the data as shown in:\n",
            "    https://scikit-learn.org/stable/modules/preprocessing.html\n",
            "Please also refer to the documentation for alternative solver options:\n",
            "    https://scikit-learn.org/stable/modules/linear_model.html#logistic-regression\n",
            "  extra_warning_msg=_LOGISTIC_SOLVER_CONVERGENCE_MSG)\n",
            "/usr/local/lib/python3.6/dist-packages/sklearn/linear_model/_logistic.py:940: ConvergenceWarning: lbfgs failed to converge (status=1):\n",
            "STOP: TOTAL NO. of ITERATIONS REACHED LIMIT.\n",
            "\n",
            "Increase the number of iterations (max_iter) or scale the data as shown in:\n",
            "    https://scikit-learn.org/stable/modules/preprocessing.html\n",
            "Please also refer to the documentation for alternative solver options:\n",
            "    https://scikit-learn.org/stable/modules/linear_model.html#logistic-regression\n",
            "  extra_warning_msg=_LOGISTIC_SOLVER_CONVERGENCE_MSG)\n",
            "/usr/local/lib/python3.6/dist-packages/sklearn/linear_model/_logistic.py:940: ConvergenceWarning: lbfgs failed to converge (status=1):\n",
            "STOP: TOTAL NO. of ITERATIONS REACHED LIMIT.\n",
            "\n",
            "Increase the number of iterations (max_iter) or scale the data as shown in:\n",
            "    https://scikit-learn.org/stable/modules/preprocessing.html\n",
            "Please also refer to the documentation for alternative solver options:\n",
            "    https://scikit-learn.org/stable/modules/linear_model.html#logistic-regression\n",
            "  extra_warning_msg=_LOGISTIC_SOLVER_CONVERGENCE_MSG)\n",
            "/usr/local/lib/python3.6/dist-packages/sklearn/linear_model/_logistic.py:940: ConvergenceWarning: lbfgs failed to converge (status=1):\n",
            "STOP: TOTAL NO. of ITERATIONS REACHED LIMIT.\n",
            "\n",
            "Increase the number of iterations (max_iter) or scale the data as shown in:\n",
            "    https://scikit-learn.org/stable/modules/preprocessing.html\n",
            "Please also refer to the documentation for alternative solver options:\n",
            "    https://scikit-learn.org/stable/modules/linear_model.html#logistic-regression\n",
            "  extra_warning_msg=_LOGISTIC_SOLVER_CONVERGENCE_MSG)\n",
            "/usr/local/lib/python3.6/dist-packages/sklearn/linear_model/_logistic.py:940: ConvergenceWarning: lbfgs failed to converge (status=1):\n",
            "STOP: TOTAL NO. of ITERATIONS REACHED LIMIT.\n",
            "\n",
            "Increase the number of iterations (max_iter) or scale the data as shown in:\n",
            "    https://scikit-learn.org/stable/modules/preprocessing.html\n",
            "Please also refer to the documentation for alternative solver options:\n",
            "    https://scikit-learn.org/stable/modules/linear_model.html#logistic-regression\n",
            "  extra_warning_msg=_LOGISTIC_SOLVER_CONVERGENCE_MSG)\n",
            "/usr/local/lib/python3.6/dist-packages/sklearn/linear_model/_logistic.py:940: ConvergenceWarning: lbfgs failed to converge (status=1):\n",
            "STOP: TOTAL NO. of ITERATIONS REACHED LIMIT.\n",
            "\n",
            "Increase the number of iterations (max_iter) or scale the data as shown in:\n",
            "    https://scikit-learn.org/stable/modules/preprocessing.html\n",
            "Please also refer to the documentation for alternative solver options:\n",
            "    https://scikit-learn.org/stable/modules/linear_model.html#logistic-regression\n",
            "  extra_warning_msg=_LOGISTIC_SOLVER_CONVERGENCE_MSG)\n",
            "/usr/local/lib/python3.6/dist-packages/sklearn/linear_model/_logistic.py:940: ConvergenceWarning: lbfgs failed to converge (status=1):\n",
            "STOP: TOTAL NO. of ITERATIONS REACHED LIMIT.\n",
            "\n",
            "Increase the number of iterations (max_iter) or scale the data as shown in:\n",
            "    https://scikit-learn.org/stable/modules/preprocessing.html\n",
            "Please also refer to the documentation for alternative solver options:\n",
            "    https://scikit-learn.org/stable/modules/linear_model.html#logistic-regression\n",
            "  extra_warning_msg=_LOGISTIC_SOLVER_CONVERGENCE_MSG)\n"
          ],
          "name": "stderr"
        },
        {
          "output_type": "stream",
          "text": [
            "Taux dde prédiction trouvés : [0.884 0.878 0.912 0.874 0.894 0.874 0.878 0.9   0.906 0.888]\n",
            "Taux de prédiction de Cross-Validation (moyenne) : 0.8888\n",
            "Taux de prédiction sur le jeu de données test: 0.878 \n",
            "\n",
            "[[ 99   0   0   0   0   1   0   0   1   0]\n",
            " [  0 109   0   1   0   3   0   0   0   1]\n",
            " [  0   5  70   1   2   0   2   3   4   1]\n",
            " [  0   2   5  83   0   3   3   0   2   0]\n",
            " [  0   1   1   0 100   0   2   0   1   7]\n",
            " [  2   0   0   3   3  75   0   0   5   2]\n",
            " [  1   1   1   0   0   1  88   0   1   0]\n",
            " [  1   0   4   1   1   0   0  80   0   3]\n",
            " [  0   3   1   2   1   8   1   4  82   4]\n",
            " [  1   0   3   2   2   0   0   7   1  92]]\n"
          ],
          "name": "stdout"
        },
        {
          "output_type": "stream",
          "text": [
            "/usr/local/lib/python3.6/dist-packages/sklearn/linear_model/_logistic.py:940: ConvergenceWarning: lbfgs failed to converge (status=1):\n",
            "STOP: TOTAL NO. of ITERATIONS REACHED LIMIT.\n",
            "\n",
            "Increase the number of iterations (max_iter) or scale the data as shown in:\n",
            "    https://scikit-learn.org/stable/modules/preprocessing.html\n",
            "Please also refer to the documentation for alternative solver options:\n",
            "    https://scikit-learn.org/stable/modules/linear_model.html#logistic-regression\n",
            "  extra_warning_msg=_LOGISTIC_SOLVER_CONVERGENCE_MSG)\n"
          ],
          "name": "stderr"
        }
      ]
    },
    {
      "cell_type": "markdown",
      "metadata": {
        "id": "sSOsoKO04yYp"
      },
      "source": [
        "# **SVM linéaire**"
      ]
    },
    {
      "cell_type": "code",
      "metadata": {
        "colab": {
          "base_uri": "https://localhost:8080/"
        },
        "id": "6HK3pu9a4yYq",
        "outputId": "58597468-0ca2-40e7-d721-4acdb555fcea"
      },
      "source": [
        "from sklearn.svm import SVC\n",
        "model_linear = SVC(kernel='linear')\n",
        "\n",
        "# Taux de prédiction sur l'échantillon d'entrainement :\n",
        "#On ajuste le modèle SVM linéaire sur toute la base:\n",
        "model_linear.fit(X_train,Y_train)\n",
        "#Taux de prédiction sur l'échantillon d'entrainement(in-sample), ici toute la base : 100%\n",
        "print(\"Taux de prédiction sur échantillon d'entrainement : {}\" .format(model_linear.score(X_train,Y_train)))\n",
        "\n",
        "\n",
        "#Taux de prédiction moyen à l'aide de la cross validation:\n",
        "cv_results = cross_val_score(model_linear, X_train, Y_train, cv=10)\n",
        "moyenne_cv_results = cv_results.mean()\n",
        "print(\"Taux de prédiction trouvés : {}\" .format(cv_results))\n",
        "print(\"Taux de prédiction de Cross-Validation (moyenne) : {}\" .format(moyenne_cv_results))\n",
        "\n",
        "#Le taux moyen de bonne prediction est de 91,08% sur les 10 test de modèles,\n",
        "#ce qui est meilleur qu'avec la méthode des plus proches voisins (KNN)(+1,3%)\n",
        "\n",
        "#On va maintenant essayer de prédire les classes de la base test \n",
        "#On entraine d'abord notre modèle sur notre base de données train\n",
        "model_linear.fit(X_train,Y_train)\n",
        "Y_pred=model_linear.predict(X_test)\n",
        "\n",
        "print(\"Taux de prédiction sur le jeu de données test:\", metrics.accuracy_score(Y_test, Y_pred), \"\\n\") #Taux de bonne prédiction\n",
        "print(metrics.confusion_matrix(Y_test, Y_pred)) #Matrice de confusion\n",
        "\n",
        " #90,53% de bonnes prédictions, meilleur que knn et logreg pour l'instant\n"
      ],
      "execution_count": null,
      "outputs": [
        {
          "output_type": "stream",
          "text": [
            "Taux de prédiction sur échantillon d'entrainement : 1.0\n",
            "Taux de prédiction trouvés : [0.912 0.912 0.924 0.906 0.912 0.894 0.9   0.928 0.902 0.918]\n",
            "Taux de prédiction de Cross-Validation (moyenne) : 0.9107999999999998\n",
            "Taux de prédiction sur le jeu de données test: 0.905 \n",
            "\n",
            "[[100   0   0   1   0   0   0   0   0   0]\n",
            " [  0 112   0   0   0   1   0   0   0   1]\n",
            " [  0   2  81   0   2   0   1   1   1   0]\n",
            " [  0   2   1  90   0   3   1   0   1   0]\n",
            " [  0   2   0   0 102   0   2   0   2   4]\n",
            " [  2   0   0   4   4  74   1   0   5   0]\n",
            " [  1   0   1   0   1   1  89   0   0   0]\n",
            " [  0   0   2   2   1   0   0  84   0   1]\n",
            " [  0   2   0   4   3   4   1   1  88   3]\n",
            " [  1   0   2   1   7   1   0  11   0  85]]\n"
          ],
          "name": "stdout"
        }
      ]
    },
    {
      "cell_type": "markdown",
      "metadata": {
        "id": "OgHRtzUN4yYv"
      },
      "source": [
        "# **SVM non-linéaire (C et Gamma)**"
      ]
    },
    {
      "cell_type": "code",
      "metadata": {
        "colab": {
          "base_uri": "https://localhost:8080/",
          "height": 380
        },
        "id": "F8sE4gNa4yYw",
        "outputId": "72d62bbf-5b3c-4182-8e44-c982426c796b"
      },
      "source": [
        "#Ici on va se servir de la deuxième fonctionnalité de la Cross-Validation (comme évoqué plus tôt), \n",
        "#c'est à dire optimiser les paramètres d'un modèle, ça marcherait aussi pour une régression linéaire basique (type MCO)\n",
        "\n",
        "#On utilise une validation croisée en 5 segments (5-folds CV)\n",
        "from sklearn.model_selection import KFold\n",
        "segments = KFold(n_splits = 4, shuffle = True, random_state = 10)\n",
        "\n",
        "#On spécifie les hyper-paramètres, c'est à dire les paramètres qui seront testés lors de la cross validation:\n",
        "\n",
        "hyper_params = [ {'gamma': [0.000001,0.0000001],\n",
        "                     'C': [3,5]}]\n",
        "#On vient donc spécifier les différents C et Gamma qui seront testés par Cross Validation\n",
        "\n",
        "\n",
        "# On utilise toujours un modèle avec une fonction de noyau RBF.\n",
        "model = SVC(kernel=\"rbf\")\n",
        "\n",
        "# On spécifie une table de paramètres de la Cross validation(GridSearchCV()) \n",
        "#qui reprend les hyper-paramètres et les paramètres de la segmentation évoqués plus haut\n",
        "from sklearn.model_selection import GridSearchCV\n",
        "model_cv = GridSearchCV(estimator = model, \n",
        "                        param_grid = hyper_params, \n",
        "                        scoring= 'accuracy', \n",
        "                        cv = segments, \n",
        "                        verbose = 1,\n",
        "                        return_train_score=True)      \n",
        "\n",
        "# On ajuste le modèle\n",
        "model_cv.fit(X_train,Y_train)\n",
        "cv_results = pd.DataFrame(model_cv.cv_results_)\n",
        "cv_results\n",
        "\n",
        "#Ici nous est donné un tableau avec toutes les informations concernant les différents modèles possibles\n",
        "#pour chaque combinaison de C et Gamma, le meilleur modèle en termes de qualité moyenne de prédiction ('mean_test_score' ou 'cross val')\n",
        "#est celui ou les paramètres valent {'C': 3, 'gamma': 0.0000001} avec un pourcentage de prédiction moyen de 98,7%\n",
        "#Ce qui est mieux que tous les modèles jusqu'à présent.\n",
        "  \n",
        "#Sont aussi présents dans le tableaux les temps d'ajustement des modèles."
      ],
      "execution_count": null,
      "outputs": [
        {
          "output_type": "stream",
          "text": [
            "Fitting 4 folds for each of 4 candidates, totalling 16 fits\n"
          ],
          "name": "stdout"
        },
        {
          "output_type": "stream",
          "text": [
            "[Parallel(n_jobs=1)]: Using backend SequentialBackend with 1 concurrent workers.\n",
            "[Parallel(n_jobs=1)]: Done  16 out of  16 | elapsed:  8.8min finished\n"
          ],
          "name": "stderr"
        },
        {
          "output_type": "execute_result",
          "data": {
            "text/html": [
              "<div>\n",
              "<style scoped>\n",
              "    .dataframe tbody tr th:only-of-type {\n",
              "        vertical-align: middle;\n",
              "    }\n",
              "\n",
              "    .dataframe tbody tr th {\n",
              "        vertical-align: top;\n",
              "    }\n",
              "\n",
              "    .dataframe thead th {\n",
              "        text-align: right;\n",
              "    }\n",
              "</style>\n",
              "<table border=\"1\" class=\"dataframe\">\n",
              "  <thead>\n",
              "    <tr style=\"text-align: right;\">\n",
              "      <th></th>\n",
              "      <th>mean_fit_time</th>\n",
              "      <th>std_fit_time</th>\n",
              "      <th>mean_score_time</th>\n",
              "      <th>std_score_time</th>\n",
              "      <th>param_C</th>\n",
              "      <th>param_gamma</th>\n",
              "      <th>params</th>\n",
              "      <th>split0_test_score</th>\n",
              "      <th>split1_test_score</th>\n",
              "      <th>split2_test_score</th>\n",
              "      <th>split3_test_score</th>\n",
              "      <th>mean_test_score</th>\n",
              "      <th>std_test_score</th>\n",
              "      <th>rank_test_score</th>\n",
              "      <th>split0_train_score</th>\n",
              "      <th>split1_train_score</th>\n",
              "      <th>split2_train_score</th>\n",
              "      <th>split3_train_score</th>\n",
              "      <th>mean_train_score</th>\n",
              "      <th>std_train_score</th>\n",
              "    </tr>\n",
              "  </thead>\n",
              "  <tbody>\n",
              "    <tr>\n",
              "      <th>0</th>\n",
              "      <td>28.267186</td>\n",
              "      <td>0.122838</td>\n",
              "      <td>5.447781</td>\n",
              "      <td>0.197770</td>\n",
              "      <td>3</td>\n",
              "      <td>1e-06</td>\n",
              "      <td>{'C': 3, 'gamma': 1e-06}</td>\n",
              "      <td>0.9288</td>\n",
              "      <td>0.9384</td>\n",
              "      <td>0.9312</td>\n",
              "      <td>0.9312</td>\n",
              "      <td>0.9324</td>\n",
              "      <td>0.003600</td>\n",
              "      <td>3</td>\n",
              "      <td>1.000000</td>\n",
              "      <td>1.000000</td>\n",
              "      <td>1.000000</td>\n",
              "      <td>1.000000</td>\n",
              "      <td>1.000000</td>\n",
              "      <td>0.000000</td>\n",
              "    </tr>\n",
              "    <tr>\n",
              "      <th>1</th>\n",
              "      <td>5.463795</td>\n",
              "      <td>0.051807</td>\n",
              "      <td>2.771039</td>\n",
              "      <td>0.049167</td>\n",
              "      <td>3</td>\n",
              "      <td>1e-07</td>\n",
              "      <td>{'C': 3, 'gamma': 1e-07}</td>\n",
              "      <td>0.9488</td>\n",
              "      <td>0.9408</td>\n",
              "      <td>0.9432</td>\n",
              "      <td>0.9456</td>\n",
              "      <td>0.9446</td>\n",
              "      <td>0.002960</td>\n",
              "      <td>1</td>\n",
              "      <td>0.985867</td>\n",
              "      <td>0.988533</td>\n",
              "      <td>0.988800</td>\n",
              "      <td>0.986133</td>\n",
              "      <td>0.987333</td>\n",
              "      <td>0.001340</td>\n",
              "    </tr>\n",
              "    <tr>\n",
              "      <th>2</th>\n",
              "      <td>28.148613</td>\n",
              "      <td>0.147135</td>\n",
              "      <td>5.326193</td>\n",
              "      <td>0.033938</td>\n",
              "      <td>5</td>\n",
              "      <td>1e-06</td>\n",
              "      <td>{'C': 5, 'gamma': 1e-06}</td>\n",
              "      <td>0.9288</td>\n",
              "      <td>0.9384</td>\n",
              "      <td>0.9312</td>\n",
              "      <td>0.9312</td>\n",
              "      <td>0.9324</td>\n",
              "      <td>0.003600</td>\n",
              "      <td>3</td>\n",
              "      <td>1.000000</td>\n",
              "      <td>1.000000</td>\n",
              "      <td>1.000000</td>\n",
              "      <td>1.000000</td>\n",
              "      <td>1.000000</td>\n",
              "      <td>0.000000</td>\n",
              "    </tr>\n",
              "    <tr>\n",
              "      <th>3</th>\n",
              "      <td>5.374381</td>\n",
              "      <td>0.128507</td>\n",
              "      <td>2.741961</td>\n",
              "      <td>0.058517</td>\n",
              "      <td>5</td>\n",
              "      <td>1e-07</td>\n",
              "      <td>{'C': 5, 'gamma': 1e-07}</td>\n",
              "      <td>0.9480</td>\n",
              "      <td>0.9336</td>\n",
              "      <td>0.9424</td>\n",
              "      <td>0.9480</td>\n",
              "      <td>0.9430</td>\n",
              "      <td>0.005889</td>\n",
              "      <td>2</td>\n",
              "      <td>0.993600</td>\n",
              "      <td>0.993600</td>\n",
              "      <td>0.996267</td>\n",
              "      <td>0.993867</td>\n",
              "      <td>0.994333</td>\n",
              "      <td>0.001122</td>\n",
              "    </tr>\n",
              "  </tbody>\n",
              "</table>\n",
              "</div>"
            ],
            "text/plain": [
              "   mean_fit_time  std_fit_time  ...  mean_train_score  std_train_score\n",
              "0      28.267186      0.122838  ...          1.000000         0.000000\n",
              "1       5.463795      0.051807  ...          0.987333         0.001340\n",
              "2      28.148613      0.147135  ...          1.000000         0.000000\n",
              "3       5.374381      0.128507  ...          0.994333         0.001122\n",
              "\n",
              "[4 rows x 20 columns]"
            ]
          },
          "metadata": {
            "tags": []
          },
          "execution_count": 11
        }
      ]
    },
    {
      "cell_type": "code",
      "metadata": {
        "colab": {
          "base_uri": "https://localhost:8080/"
        },
        "id": "5y4fjJX54yY0",
        "scrolled": true,
        "outputId": "248b75e0-8606-4c74-c9b3-cd59e0e8bed7"
      },
      "source": [
        "#Il existe aussi une fonction qui donne directement les meilleurs hyperparamètres retenus pour la suite :\n",
        "\n",
        "meilleure_qualite = model_cv.best_score_\n",
        "meilleurs_hyperparam = model_cv.best_params_\n",
        "\n",
        "print(\"la meilleure qualité de prévision est {0} correspondant aux hyper paramètres {1}\".format(meilleure_qualite, meilleurs_hyperparam))\n",
        "#Qualité de prévision de 94.46%, meilleure que tout pour l'instant car très très difficile de séparer linéairement des chiffres les uns sur les autres"
      ],
      "execution_count": null,
      "outputs": [
        {
          "output_type": "stream",
          "text": [
            "la meilleure qualité de prévision est 0.9445999999999999 correspondant aux hyper paramètres {'C': 3, 'gamma': 1e-07}\n"
          ],
          "name": "stdout"
        }
      ]
    },
    {
      "cell_type": "code",
      "metadata": {
        "colab": {
          "base_uri": "https://localhost:8080/"
        },
        "id": "nk8_DD01cutC",
        "outputId": "cff238e3-3f61-45b1-964c-d041117392e7"
      },
      "source": [
        "#on va réaliser les prédictions sur la base test avec le meilleur modèle \n",
        "#On spécifie les paramètres du modèle que l'on a déterminé avant\n",
        "model_non_linear_svm =  SVC(kernel=\"rbf\", C=3,gamma=0.0000001)\n",
        "\n",
        "#On entraine d'abord notre modèle sur notre base de données train\n",
        "model_non_linear_svm.fit(X_train,Y_train)\n",
        "Y_pred=model_non_linear_svm.predict(X_test)\n",
        "\n",
        "print(\"Taux de prédiction sur le jeu de données test:\", metrics.accuracy_score(Y_test, Y_pred), \"\\n\") #Taux de bonne prédiction\n",
        "print(metrics.confusion_matrix(Y_test, Y_pred)) #Matrice de confusion\n",
        "\n",
        " #94,5% de bonnes prédictions=très bonne prédiction, il faudrait encore ajuster les paramètres du noyau : C et Gamma \n",
        " #autour des valeurs prédites ici, et également tenter d'ajuster les paramètres du modèle par cross validation"
      ],
      "execution_count": null,
      "outputs": [
        {
          "output_type": "stream",
          "text": [
            "Taux de prédiction sur le jeu de données test: 0.945 \n",
            "\n",
            "[[101   0   0   0   0   0   0   0   0   0]\n",
            " [  0 112   0   1   0   1   0   0   0   0]\n",
            " [  0   1  84   0   1   0   0   1   1   0]\n",
            " [  0   0   3  92   0   1   1   0   1   0]\n",
            " [  0   1   0   0 106   0   2   0   0   3]\n",
            " [  2   0   0   3   0  80   0   0   5   0]\n",
            " [  2   0   0   0   1   2  88   0   0   0]\n",
            " [  0   2   1   1   1   0   0  84   0   1]\n",
            " [  0   1   0   0   1   3   0   0  99   2]\n",
            " [  2   1   0   1   2   0   0   3   0  99]]\n"
          ],
          "name": "stdout"
        }
      ]
    },
    {
      "cell_type": "code",
      "metadata": {
        "colab": {
          "base_uri": "https://localhost:8080/",
          "height": 192
        },
        "id": "iP9zl85RqV3m",
        "outputId": "753b2910-b8ee-4d27-f6cb-587500b8c9ae"
      },
      "source": [
        "#Affichage de certains chiffres \n",
        "fig, axs = plt.subplots(1, 5, sharex=True, sharey=True, figsize=(10,6))\n",
        "axs = axs.flatten()\n",
        "\n",
        "prediction = model_non_linear_svm.predict(X_train.iloc[0:1000])\n",
        "n=-1\n",
        "for i in [11,2,3,15,5]:\n",
        "    n=n+1\n",
        "    im = X_train.iloc[i]\n",
        "    im = im.values.reshape(-1,28,28,1)\n",
        "    axs[n].imshow(im[0,:,:,0], cmap=plt.get_cmap('gray'))\n",
        "    axs[n].set_title(prediction[i])\n",
        "    plt.tight_layout()  \n",
        "\n",
        "\n"
      ],
      "execution_count": null,
      "outputs": [
        {
          "output_type": "display_data",
          "data": {
            "image/png": "[encoded data removed]",
            "text/plain": [
              "<Figure size 720x432 with 5 Axes>"
            ]
          },
          "metadata": {
            "tags": []
          }
        }
      ]
    },
    {
      "cell_type": "code",
      "metadata": {
        "colab": {
          "base_uri": "https://localhost:8080/",
          "height": 192
        },
        "id": "fA6bLNt3zIjQ",
        "outputId": "03825b52-e2a7-4792-96ef-da25132ee304"
      },
      "source": [
        "#Pour les chiffres mal écrits\n",
        "fig, axs = plt.subplots(1, 5, sharex=True, sharey=True, figsize=(10,6))\n",
        "axs = axs.flatten()\n",
        "n=-1\n",
        "for i in [184,298,338,642,837]:\n",
        "    n=n+1\n",
        "    im = X_train.iloc[i]\n",
        "    im = im.values.reshape(-1,28,28,1)\n",
        "    axs[n].imshow(im[0,:,:,0], cmap=plt.get_cmap('gray'))\n",
        "    axs[n].set_title(prediction[i])\n",
        "    plt.tight_layout()  "
      ],
      "execution_count": null,
      "outputs": [
        {
          "output_type": "display_data",
          "data": {
            "image/png": "[encoded data removed]",
            "text/plain": [
              "<Figure size 720x432 with 5 Axes>"
            ]
          },
          "metadata": {
            "tags": []
          }
        }
      ]
    },
    {
      "cell_type": "markdown",
      "metadata": {
        "id": "zqlPJWZS4yY7"
      },
      "source": [
        "# **Random Forest**"
      ]
    },
    {
      "cell_type": "code",
      "metadata": {
        "colab": {
          "base_uri": "https://localhost:8080/",
          "height": 232
        },
        "id": "472ORn684yY7",
        "outputId": "25a2a3f3-1310-4cc9-9dd5-cbe2f9f110b7"
      },
      "source": [
        "from sklearn.ensemble import RandomForestClassifier\n",
        "\n",
        "Random_forest_model = RandomForestClassifier()\n",
        "Random_forest_model.fit(X_train,Y_train)\n",
        "\n",
        "\n",
        "#Taux de prédiction sur l'échantillon d'entrainement(in-sample), ici toute la base : 100%\n",
        "print(\"Taux de prédiction sur échantillon d'entrainement : {}\" .format(Random_forest_model.score(X_train,Y_train)))\n",
        "\n",
        "\n",
        "#Taux de prédiction moyen à l'aide de la cross validation:\n",
        "cv_results = cross_val_score(Random_forest_model, X_train, Y_train, cv=10)\n",
        "moyenne_cv_results = cv_results.mean()\n",
        "print(\"Taux dde prédiction trouvés : {}\" .format(cv_results))\n",
        "print(\"Taux de prédiction de Cross-Validation (moyenne) : {}\" .format(moyenne_cv_results))\n",
        "\n",
        "#Le taux moyen de bonne prediction est de 93.6% sur les 10 tests de modèles.\n",
        "\n",
        "#On va maintenant essayer de prédire les classes de la base test \n",
        "#On entraine d'abord notre modèle sur notre base de données train\n",
        "Random_forest_model.fit(X_train,Y_train)\n",
        "Y_pred=Random_forest_model.predict(X_test)\n",
        "\n",
        "print(\"Taux de prédiction sur le jeu de données test:\", metrics.accuracy_score(Y_test, Y_pred), \"\\n\") #Taux de bonne prédiction\n",
        "print(metrics.confusion_matrix(Y_test, Y_pred)) #Matrice de confusion\n",
        "\n",
        " #92.5% de bonnes prédictions, soit 2% mieux que le SVM linéaire et 2% moins bien que le SVM non linéaire"
      ],
      "execution_count": null,
      "outputs": [
        {
          "output_type": "error",
          "ename": "NameError",
          "evalue": "ignored",
          "traceback": [
            "\u001b[0;31m---------------------------------------------------------------------------\u001b[0m",
            "\u001b[0;31mNameError\u001b[0m                                 Traceback (most recent call last)",
            "\u001b[0;32m<ipython-input-1-6f3e1ff9419b>\u001b[0m in \u001b[0;36m<module>\u001b[0;34m()\u001b[0m\n\u001b[1;32m      2\u001b[0m \u001b[0;34m\u001b[0m\u001b[0m\n\u001b[1;32m      3\u001b[0m \u001b[0mRandom_forest_model\u001b[0m \u001b[0;34m=\u001b[0m \u001b[0mRandomForestClassifier\u001b[0m\u001b[0;34m(\u001b[0m\u001b[0;34m)\u001b[0m\u001b[0;34m\u001b[0m\u001b[0;34m\u001b[0m\u001b[0m\n\u001b[0;32m----> 4\u001b[0;31m \u001b[0mRandom_forest_model\u001b[0m\u001b[0;34m.\u001b[0m\u001b[0mfit\u001b[0m\u001b[0;34m(\u001b[0m\u001b[0mX_train\u001b[0m\u001b[0;34m,\u001b[0m\u001b[0mY_train\u001b[0m\u001b[0;34m)\u001b[0m\u001b[0;34m\u001b[0m\u001b[0;34m\u001b[0m\u001b[0m\n\u001b[0m\u001b[1;32m      5\u001b[0m \u001b[0;34m\u001b[0m\u001b[0m\n\u001b[1;32m      6\u001b[0m \u001b[0;34m\u001b[0m\u001b[0m\n",
            "\u001b[0;31mNameError\u001b[0m: name 'X_train' is not defined"
          ]
        }
      ]
    },
    {
      "cell_type": "markdown",
      "metadata": {
        "id": "plsbcjPj4yY3"
      },
      "source": [
        "# **Arbre décisionels - méthode non-paramétrique**"
      ]
    },
    {
      "cell_type": "code",
      "metadata": {
        "colab": {
          "base_uri": "https://localhost:8080/"
        },
        "id": "flzLvUtz4yY4",
        "outputId": "42ffe146-f890-4a7f-9691-7f1096af3845"
      },
      "source": [
        "from sklearn.tree import DecisionTreeClassifier\n",
        "\n",
        "\n",
        "arbre_dec_model = DecisionTreeClassifier()\n",
        "arbre_dec_model.fit(X_train,Y_train)\n",
        "\n",
        "\n",
        "#Taux de prédiction sur l'échantillon d'entrainement(in-sample), ici toute la base : 100%\n",
        "print(\"Taux de prédiction sur échantillon d'entrainement : {}\" .format(arbre_dec_model.score(X_train,Y_train)))\n",
        "\n",
        "\n",
        "#Taux de prédiction moyen à l'aide de la cross validation:\n",
        "cv_results = cross_val_score(arbre_dec_model, X_train, Y_train, cv=10)\n",
        "moyenne_cv_results = cv_results.mean()\n",
        "print(\"Taux dde prédiction trouvés : {}\" .format(cv_results))\n",
        "print(\"Taux de prédiction de Cross-Validation (moyenne) : {}\" .format(moyenne_cv_results))\n",
        "\n",
        "#Le taux moyen de bonne prediction est de 77.8% sur les 10 test de modèles\n",
        "\n",
        "#On va maintenant essayer de prédire les classes de la base test \n",
        "#On entraine d'abord notre modèle sur notre base de données train\n",
        "arbre_dec_model.fit(X_train,Y_train)\n",
        "Y_pred=arbre_dec_model.predict(X_test)\n",
        "\n",
        "print(\"Taux de prédiction sur le jeu de données test:\", metrics.accuracy_score(Y_test, Y_pred), \"\\n\") #Taux de bonne prédiction\n",
        "print(metrics.confusion_matrix(Y_test, Y_pred)) #Matrice de confusion\n",
        "\n",
        " #77,1% de bonnes prédictions, le moins bon modèle pour l'instant\n"
      ],
      "execution_count": null,
      "outputs": [
        {
          "output_type": "stream",
          "text": [
            "Taux de prédiction sur échantillon d'entrainement : 1.0\n",
            "Taux dde prédiction trouvés : [0.78  0.754 0.776 0.762 0.786 0.774 0.808 0.798 0.786 0.758]\n",
            "Taux de prédiction de Cross-Validation (moyenne) : 0.7782000000000001\n",
            "Taux de prédiction sur le jeu de données test: 0.771 \n",
            "\n",
            "[[ 91   1   1   2   1   1   1   0   2   1]\n",
            " [  0 102   2   4   1   3   0   1   1   0]\n",
            " [  1   3  59   6   4   2   1   9   3   0]\n",
            " [  0   2   7  76   1   5   2   0   2   3]\n",
            " [  1   1   2   2  88   4   0   3   1  10]\n",
            " [  5   3   3   5   1  60   2   2   6   3]\n",
            " [  0   2   1   0   5  11  71   1   1   1]\n",
            " [  1   3   4   1   2   0   0  75   2   2]\n",
            " [  1   2   3  11   6   3   2   2  67   9]\n",
            " [  1   0   1   5   7   0   0  11   1  82]]\n"
          ],
          "name": "stdout"
        }
      ]
    },
    {
      "cell_type": "markdown",
      "metadata": {
        "id": "8vvL4w964yY-"
      },
      "source": [
        "# **Neural Networks (perceptron multi-couches)** Avec Sklearn"
      ]
    },
    {
      "cell_type": "code",
      "metadata": {
        "colab": {
          "base_uri": "https://localhost:8080/"
        },
        "id": "M__4PDsI4yY-",
        "outputId": "01b97667-3d06-414c-d32a-85c855a5e308"
      },
      "source": [
        "\n",
        "\n",
        "import numpy as np \n",
        "import pandas as pd \n",
        "\n",
        "from sklearn.neural_network import MLPClassifier\n",
        "from sklearn.model_selection import KFold\n",
        "from sklearn.model_selection import GridSearchCV\n",
        "from sklearn.model_selection import GridSearchCV\n",
        "from sklearn.model_selection import train_test_split #Tests de validation croisée\n",
        "from sklearn import metrics #Calculs des taux de prédition\n",
        "from sklearn.metrics import accuracy_score\n",
        "from sklearn.model_selection import cross_val_score\n",
        "from sklearn.metrics import confusion_matrix #Matrice de confusion\n",
        "\n",
        "\n",
        "def get_best_score(model):\n",
        "    \n",
        "    print(model.best_score_)    \n",
        "    print(model.best_params_)\n",
        "    print(model.best_estimator_)\n",
        "    \n",
        "    return model.best_score_\n",
        "\n",
        "from google.colab import drive\n",
        "drive.mount('/content/gdrive')\n",
        "train = pd.read_csv('/content/gdrive/My Drive/IAE/M2-S1/Python/Projet python/Bases/train.csv',sep =\",\")\n",
        "test = pd.read_csv('/content/gdrive/My Drive/IAE/M2-S1/Python/Projet python/Bases/test.csv', sep=\",\")\n",
        "\n",
        "#train = pd.read_csv('train.csv',sep =\",\")\n",
        "#test = pd.read_csv('test.csv',sep =\",\")\n",
        "\n",
        "y = train[\"label\"]\n",
        "X = train.drop([\"label\"],axis = 1)\n",
        "X_test = test\n",
        "\n",
        "X = X/255.0\n",
        "X_test = X_test/255.0\n",
        "\n",
        "\n",
        "mode = \"edit\"\n",
        "if mode == \"edit\" :\n",
        "    nr_samples = 4000\n",
        "if mode == \"commit\" :    \n",
        "    nr_samples = 30000\n",
        "y_train=y[:nr_samples]\n",
        "X_train=X[:nr_samples]\n",
        "start_ix_val = nr_samples \n",
        "end_ix_val = nr_samples + int(nr_samples/3)\n",
        "y_val=y[start_ix_val:end_ix_val]\n",
        "X_val=X[start_ix_val:end_ix_val]\n",
        "print(\"nr_samples train data:\", nr_samples)\n",
        "print(\"start_ix_val:\", start_ix_val)\n",
        "print(\"end_ix_val:\", end_ix_val)\n",
        "\n",
        "\n",
        "Sklearn_MLP = MLPClassifier(activation = \"logistic\", hidden_layer_sizes=(200,100), random_state=0)\n",
        "param_grid = { 'batch_size' : [200,100] , 'max_iter': [200], \n",
        "               'solver': ['adam'],'tol': [0.001,0.0001] }\n",
        "    \n",
        "GridCV_MLP = GridSearchCV(Sklearn_MLP, param_grid, verbose=1, cv= 3)\n",
        "\n",
        "GridCV_MLP.fit(X_train,y_train)\n",
        "cv_results = pd.DataFrame(GridCV_MLP.cv_results_)\n",
        "print(cv_results)\n",
        "\n",
        "meilleure_qualite = GridCV_MLP.best_score_\n",
        "meilleurs_hyperparam = GridCV_MLP.best_params_\n",
        "\n",
        "\n",
        "print(\"la meilleure qualité de prévision est {0} correspondant aux hyper paramètres {1}\".format(meilleure_qualite, meilleurs_hyperparam))\n",
        "\n",
        "modele_MLP = MLPClassifier(activation = \"logistic\", hidden_layer_sizes=(200,100), random_state=0, batch_size = 100, max_iter = 200, solver = 'adam', tol = 0.001)\n",
        "\n",
        "#On entraine d'abord notre modèle sur notre base de données train\n",
        "modele_MLP.fit(X_train,y_train)\n",
        "Y_pred = modele_MLP.predict(X_val)\n",
        "\n",
        "print(\"Taux de prédiction sur le jeu de données test:\", metrics.accuracy_score(y_val, Y_pred), \"\\n\") #Taux de bonne prédiction\n",
        "print(metrics.confusion_matrix(y_val, Y_pred))\n"
      ],
      "execution_count": null,
      "outputs": [
        {
          "output_type": "stream",
          "text": [
            "Mounted at /content/gdrive\n",
            "nr_samples train data: 4000\n",
            "start_ix_val: 4000\n",
            "end_ix_val: 5333\n",
            "Fitting 3 folds for each of 4 candidates, totalling 12 fits\n"
          ],
          "name": "stdout"
        },
        {
          "output_type": "stream",
          "text": [
            "[Parallel(n_jobs=1)]: Using backend SequentialBackend with 1 concurrent workers.\n",
            "[Parallel(n_jobs=1)]: Done  12 out of  12 | elapsed:  4.8min finished\n"
          ],
          "name": "stderr"
        },
        {
          "output_type": "stream",
          "text": [
            "   mean_fit_time  std_fit_time  ...  std_test_score  rank_test_score\n",
            "0      18.098451      0.435742  ...        0.004600                4\n",
            "1      29.677219      0.051984  ...        0.004229                1\n",
            "2      18.115009      0.156432  ...        0.005257                2\n",
            "3      29.317711      0.588324  ...        0.004736                3\n",
            "\n",
            "[4 rows x 15 columns]\n",
            "la meilleure qualité de prévision est 0.9182507395964433 correspondant aux hyper paramètres {'batch_size': 200, 'max_iter': 200, 'solver': 'adam', 'tol': 0.0001}\n",
            "Taux de prédiction sur le jeu de données test: 0.9317329332333083 \n",
            "\n",
            "[[113   0   0   1   0   0   5   0   0   0]\n",
            " [  0 151   2   0   0   1   0   0   1   0]\n",
            " [  0   0 151   0   1   0   1   1   2   0]\n",
            " [  1   1   2 125   0   6   0   0   4   1]\n",
            " [  0   0   0   0 112   0   0   0   0   3]\n",
            " [  1   2   0   5   0 101   3   0   2   3]\n",
            " [  0   0   1   0   0   2 131   0   1   0]\n",
            " [  0   2   3   0   2   0   0 130   0   3]\n",
            " [  1   3   5   1   0   1   2   1 110   3]\n",
            " [  0   0   1   1   4   0   0   5   0 118]]\n"
          ],
          "name": "stdout"
        }
      ]
    },
    {
      "cell_type": "markdown",
      "metadata": {
        "id": "a5LZFoh-o6Nz"
      },
      "source": [
        "# Neural network avec keras \n",
        "(pour controler le nombre de couche et la taille des couche, créer des couche de type CNN et RNN)"
      ]
    },
    {
      "cell_type": "markdown",
      "metadata": {
        "id": "dua5TC-vkLoH"
      },
      "source": [
        "##Importation des librairies, mise en forme des X et Y train et test"
      ]
    },
    {
      "cell_type": "code",
      "metadata": {
        "colab": {
          "base_uri": "https://localhost:8080/"
        },
        "id": "JxdOGAEsow2H",
        "outputId": "b728a94b-ca6d-45aa-baa9-a42fb88477b9"
      },
      "source": [
        "import numpy as np \n",
        "import pandas as pd \n",
        "\n",
        "from google.colab import drive\n",
        "drive.mount('/content/gdrive')\n",
        "train = pd.read_csv('/content/gdrive/My Drive/IAE/M2-S1/Python/Projet python/Bases/train.csv',sep =\",\")\n",
        "test = pd.read_csv('/content/gdrive/My Drive/IAE/M2-S1/Python/Projet python/Bases/test.csv', sep=\",\")\n",
        "\n",
        "import random as rn\n",
        "\n",
        "import matplotlib.pyplot as plt\n",
        "import matplotlib.image as mpimg\n",
        "import seaborn as sns\n",
        "\n",
        "\n",
        "\n",
        "import sklearn as sk\n",
        "from sklearn.preprocessing import LabelEncoder\n",
        "from sklearn.metrics import confusion_matrix, classification_report, accuracy_score\n",
        "from sklearn.model_selection import train_test_split\n",
        "from sklearn.model_selection import cross_val_score, KFold \n",
        "from sklearn.model_selection import RandomizedSearchCV, GridSearchCV\n",
        "from sklearn.pipeline import Pipeline\n",
        "from scipy.stats import uniform\n",
        "\n",
        "import itertools\n",
        "\n",
        "import warnings\n",
        "from sklearn.exceptions import ConvergenceWarning\n",
        "warnings.filterwarnings(\"ignore\", category=ConvergenceWarning)\n",
        "\n",
        "from keras.utils.np_utils import to_categorical\n",
        "from keras.utils import np_utils\n",
        "\n",
        "from keras.models import Sequential\n",
        "from keras.layers import Dense, Dropout, Flatten\n",
        "from keras.layers import Conv2D, MaxPooling2D, MaxPool2D\n",
        "from keras.layers import AvgPool2D, BatchNormalization, Reshape\n",
        "from keras.optimizers import Adadelta, RMSprop, Adam\n",
        "from keras.losses import categorical_crossentropy\n",
        "from keras.wrappers.scikit_learn import KerasClassifier\n",
        "\n",
        "import tensorflow as tf\n",
        "\n",
        "import os\n",
        "\n",
        "def print_validation_report(y_true, y_pred):\n",
        "    print(\"Classification Report\")\n",
        "    print(classification_report(y_true, y_pred))\n",
        "    acc_sc = accuracy_score(y_true, y_pred)\n",
        "    print(\"Accuracy : \"+ str(acc_sc))\n",
        "    \n",
        "    return acc_sc\n",
        "\n",
        "def plot_confusion_matrix(y_true, y_pred):\n",
        "    mtx = confusion_matrix(y_true, y_pred)\n",
        "    fig, ax = plt.subplots(figsize=(8,8))\n",
        "    sns.heatmap(mtx, annot=True, fmt='d', linewidths=.5,  cbar=False, ax=ax)\n",
        "    #  square=True,\n",
        "    plt.ylabel('true label')\n",
        "    plt.xlabel('predicted label')\n",
        "\n",
        "\n",
        "def plot_history_loss_and_acc(history_keras_nn):\n",
        "\n",
        "    fig, axs = plt.subplots(1,2, figsize=(12,4))\n",
        "\n",
        "    axs[0].plot(history_keras_nn.history['loss'])\n",
        "    axs[0].plot(history_keras_nn.history['val_loss'])\n",
        "    axs[0].set_title('model loss')\n",
        "    axs[0].set_ylabel('loss')\n",
        "    axs[0].set_xlabel('epoch')\n",
        "    axs[0].legend(['train', 'validation'], loc='upper left')\n",
        "\n",
        "    axs[1].plot(history_keras_nn.history['accuracy'])\n",
        "    axs[1].plot(history_keras_nn.history['val_accuracy'])\n",
        "    axs[1].set_title('model accuracy')\n",
        "    axs[1].set_ylabel('accuracy')\n",
        "    axs[1].set_xlabel('epoch')\n",
        "    axs[1].legend(['train', 'validation'], loc='upper left')\n",
        "\n",
        "    plt.show()\n",
        "    \n",
        "    \n",
        "\n",
        "y = train[\"label\"]\n",
        "X = train.drop([\"label\"],axis = 1)\n",
        "X_test = test\n",
        "\n",
        "X = X/255.0\n",
        "X_test = X_test/255.0\n",
        "\n",
        "\n",
        "mode = \"edit\"\n",
        "if mode == \"edit\" :\n",
        "    nr_samples = 5000\n",
        "if mode == \"commit\" :    \n",
        "    nr_samples = 30000\n",
        "y_train=y[:nr_samples]\n",
        "X_train=X[:nr_samples]\n",
        "start_ix_val = nr_samples \n",
        "end_ix_val = nr_samples + int(1000)\n",
        "y_val=y[start_ix_val:end_ix_val]\n",
        "X_val=X[start_ix_val:end_ix_val]\n",
        "print(\"nr_samples train data:\", nr_samples)\n",
        "print(\"start_ix_val:\", start_ix_val)\n",
        "print(\"end_ix_val:\", end_ix_val)\n",
        "\n",
        "y_train = to_categorical(y_train, 10)\n",
        "y_val_10 = to_categorical(y_val, 10)\n",
        "\n",
        "\n"
      ],
      "execution_count": null,
      "outputs": [
        {
          "output_type": "stream",
          "text": [
            "Drive already mounted at /content/gdrive; to attempt to forcibly remount, call drive.mount(\"/content/gdrive\", force_remount=True).\n",
            "nr_samples train data: 5000\n",
            "start_ix_val: 5000\n",
            "end_ix_val: 6000\n"
          ],
          "name": "stdout"
        }
      ]
    },
    {
      "cell_type": "markdown",
      "metadata": {
        "id": "9OJkNEJTkdmI"
      },
      "source": [
        "##Modèle 1 seule couche"
      ]
    },
    {
      "cell_type": "code",
      "metadata": {
        "colab": {
          "base_uri": "https://localhost:8080/",
          "height": 1000
        },
        "id": "oVwVx0ALkSVB",
        "outputId": "8c24859f-1e36-42f5-da8e-2c07ab609ef4"
      },
      "source": [
        "batchsize = int(nr_samples/15) \n",
        "\n",
        "def dense_model_0():\n",
        "    model = Sequential()\n",
        "    model.add(Dense(10, input_dim=784, activation='softmax'))\n",
        "    model.compile(loss='categorical_crossentropy', optimizer='adam', metrics=['accuracy'])\n",
        "    return model\n",
        "\n",
        "model_dense_0 = dense_model_0()\n",
        "model_dense_0.summary()\n",
        "\n",
        "#model_dense_0.fit(X_train, y_train, epochs=20, batch_size=batchsize)\n",
        "\n",
        "history_dense_0 = model_dense_0.fit(X_train, y_train, validation_data=(X_val,y_val_10), \n",
        "                                    epochs=30, batch_size=batchsize)\n",
        "\n",
        "\n",
        "plot_history_loss_and_acc(history_dense_0)\n",
        "\n",
        "pred_val_dense0 = model_dense_0.predict_classes(X_val)\n",
        "\n",
        "acc_fc0 = print_validation_report(y_val, pred_val_dense0)\n",
        "\n",
        "plot_confusion_matrix(y_val, pred_val_dense0)\n",
        "\n",
        "print(confusion_matrix(y_val, pred_val_dense0))\n"
      ],
      "execution_count": null,
      "outputs": [
        {
          "output_type": "stream",
          "text": [
            "Model: \"sequential_5\"\n",
            "_________________________________________________________________\n",
            "Layer (type)                 Output Shape              Param #   \n",
            "=================================================================\n",
            "dense_5 (Dense)              (None, 10)                7850      \n",
            "=================================================================\n",
            "Total params: 7,850\n",
            "Trainable params: 7,850\n",
            "Non-trainable params: 0\n",
            "_________________________________________________________________\n",
            "Epoch 1/30\n",
            "16/16 [==============================] - 0s 17ms/step - loss: 2.1362 - accuracy: 0.2472 - val_loss: 1.7855 - val_accuracy: 0.5170\n",
            "Epoch 2/30\n",
            "16/16 [==============================] - 0s 5ms/step - loss: 1.6016 - accuracy: 0.6300 - val_loss: 1.3963 - val_accuracy: 0.7210\n",
            "Epoch 3/30\n",
            "16/16 [==============================] - 0s 4ms/step - loss: 1.2648 - accuracy: 0.7512 - val_loss: 1.1472 - val_accuracy: 0.7730\n",
            "Epoch 4/30\n",
            "16/16 [==============================] - 0s 4ms/step - loss: 1.0513 - accuracy: 0.7912 - val_loss: 0.9889 - val_accuracy: 0.7990\n",
            "Epoch 5/30\n",
            "16/16 [==============================] - 0s 4ms/step - loss: 0.9129 - accuracy: 0.8148 - val_loss: 0.8800 - val_accuracy: 0.8150\n",
            "Epoch 6/30\n",
            "16/16 [==============================] - 0s 4ms/step - loss: 0.8164 - accuracy: 0.8270 - val_loss: 0.7989 - val_accuracy: 0.8270\n",
            "Epoch 7/30\n",
            "16/16 [==============================] - 0s 4ms/step - loss: 0.7456 - accuracy: 0.8408 - val_loss: 0.7440 - val_accuracy: 0.8380\n",
            "Epoch 8/30\n",
            "16/16 [==============================] - 0s 5ms/step - loss: 0.6899 - accuracy: 0.8492 - val_loss: 0.6920 - val_accuracy: 0.8440\n",
            "Epoch 9/30\n",
            "16/16 [==============================] - 0s 4ms/step - loss: 0.6471 - accuracy: 0.8548 - val_loss: 0.6556 - val_accuracy: 0.8480\n",
            "Epoch 10/30\n",
            "16/16 [==============================] - 0s 4ms/step - loss: 0.6102 - accuracy: 0.8640 - val_loss: 0.6215 - val_accuracy: 0.8540\n",
            "Epoch 11/30\n",
            "16/16 [==============================] - 0s 4ms/step - loss: 0.5814 - accuracy: 0.8676 - val_loss: 0.5933 - val_accuracy: 0.8590\n",
            "Epoch 12/30\n",
            "16/16 [==============================] - 0s 4ms/step - loss: 0.5555 - accuracy: 0.8714 - val_loss: 0.5706 - val_accuracy: 0.8680\n",
            "Epoch 13/30\n",
            "16/16 [==============================] - 0s 4ms/step - loss: 0.5325 - accuracy: 0.8770 - val_loss: 0.5521 - val_accuracy: 0.8680\n",
            "Epoch 14/30\n",
            "16/16 [==============================] - 0s 4ms/step - loss: 0.5137 - accuracy: 0.8802 - val_loss: 0.5356 - val_accuracy: 0.8730\n",
            "Epoch 15/30\n",
            "16/16 [==============================] - 0s 4ms/step - loss: 0.4961 - accuracy: 0.8858 - val_loss: 0.5196 - val_accuracy: 0.8740\n",
            "Epoch 16/30\n",
            "16/16 [==============================] - 0s 4ms/step - loss: 0.4823 - accuracy: 0.8890 - val_loss: 0.5043 - val_accuracy: 0.8760\n",
            "Epoch 17/30\n",
            "16/16 [==============================] - 0s 4ms/step - loss: 0.4678 - accuracy: 0.8910 - val_loss: 0.4943 - val_accuracy: 0.8750\n",
            "Epoch 18/30\n",
            "16/16 [==============================] - 0s 4ms/step - loss: 0.4560 - accuracy: 0.8892 - val_loss: 0.4838 - val_accuracy: 0.8710\n",
            "Epoch 19/30\n",
            "16/16 [==============================] - 0s 4ms/step - loss: 0.4455 - accuracy: 0.8946 - val_loss: 0.4750 - val_accuracy: 0.8790\n",
            "Epoch 20/30\n",
            "16/16 [==============================] - 0s 4ms/step - loss: 0.4354 - accuracy: 0.8952 - val_loss: 0.4649 - val_accuracy: 0.8800\n",
            "Epoch 21/30\n",
            "16/16 [==============================] - 0s 4ms/step - loss: 0.4250 - accuracy: 0.8966 - val_loss: 0.4553 - val_accuracy: 0.8830\n",
            "Epoch 22/30\n",
            "16/16 [==============================] - 0s 5ms/step - loss: 0.4173 - accuracy: 0.8998 - val_loss: 0.4508 - val_accuracy: 0.8810\n",
            "Epoch 23/30\n",
            "16/16 [==============================] - 0s 4ms/step - loss: 0.4115 - accuracy: 0.8986 - val_loss: 0.4417 - val_accuracy: 0.8850\n",
            "Epoch 24/30\n",
            "16/16 [==============================] - 0s 4ms/step - loss: 0.4011 - accuracy: 0.9018 - val_loss: 0.4340 - val_accuracy: 0.8840\n",
            "Epoch 25/30\n",
            "16/16 [==============================] - 0s 4ms/step - loss: 0.3952 - accuracy: 0.9014 - val_loss: 0.4328 - val_accuracy: 0.8840\n",
            "Epoch 26/30\n",
            "16/16 [==============================] - 0s 4ms/step - loss: 0.3887 - accuracy: 0.9016 - val_loss: 0.4260 - val_accuracy: 0.8830\n",
            "Epoch 27/30\n",
            "16/16 [==============================] - 0s 4ms/step - loss: 0.3812 - accuracy: 0.9034 - val_loss: 0.4203 - val_accuracy: 0.8830\n",
            "Epoch 28/30\n",
            "16/16 [==============================] - 0s 5ms/step - loss: 0.3754 - accuracy: 0.9058 - val_loss: 0.4156 - val_accuracy: 0.8830\n",
            "Epoch 29/30\n",
            "16/16 [==============================] - 0s 4ms/step - loss: 0.3695 - accuracy: 0.9068 - val_loss: 0.4113 - val_accuracy: 0.8850\n",
            "Epoch 30/30\n",
            "16/16 [==============================] - 0s 4ms/step - loss: 0.3642 - accuracy: 0.9082 - val_loss: 0.4060 - val_accuracy: 0.8860\n"
          ],
          "name": "stdout"
        },
        {
          "output_type": "display_data",
          "data": {
            "image/png": "[encoded data removed]",
            "text/plain": [
              "<Figure size 864x288 with 2 Axes>"
            ]
          },
          "metadata": {
            "tags": [],
            "needs_background": "light"
          }
        },
        {
          "output_type": "stream",
          "text": [
            "Classification Report\n",
            "              precision    recall  f1-score   support\n",
            "\n",
            "           0       0.95      0.98      0.96        98\n",
            "           1       0.90      0.97      0.93        96\n",
            "           2       0.90      0.86      0.88       111\n",
            "           3       0.85      0.81      0.83       103\n",
            "           4       0.91      0.90      0.90        99\n",
            "           5       0.81      0.73      0.77        75\n",
            "           6       0.93      0.92      0.92        98\n",
            "           7       0.94      0.91      0.93       117\n",
            "           8       0.84      0.84      0.84        96\n",
            "           9       0.82      0.90      0.86       107\n",
            "\n",
            "    accuracy                           0.89      1000\n",
            "   macro avg       0.88      0.88      0.88      1000\n",
            "weighted avg       0.89      0.89      0.89      1000\n",
            "\n",
            "Accuracy : 0.886\n",
            "[[ 96   0   0   0   0   0   1   0   0   1]\n",
            " [  0  93   1   0   0   0   0   0   2   0]\n",
            " [  1   1  96   3   1   1   0   4   2   2]\n",
            " [  1   1   4  83   0   8   2   1   2   1]\n",
            " [  1   1   0   0  89   1   1   0   2   4]\n",
            " [  1   4   0   4   0  55   3   0   4   4]\n",
            " [  0   0   1   0   3   2  90   0   2   0]\n",
            " [  1   0   2   0   1   0   0 107   0   6]\n",
            " [  0   3   2   7   0   0   0   0  81   3]\n",
            " [  0   0   1   1   4   1   0   2   2  96]]\n"
          ],
          "name": "stdout"
        },
        {
          "output_type": "display_data",
          "data": {
            "image/png": "[encoded data removed]",
            "text/plain": [
              "<Figure size 576x576 with 1 Axes>"
            ]
          },
          "metadata": {
            "tags": [],
            "needs_background": "light"
          }
        }
      ]
    },
    {
      "cell_type": "markdown",
      "metadata": {
        "id": "tLKHLuJJkhC1"
      },
      "source": [
        "##Modèle 4 couches : 3 chachées 1 visible"
      ]
    },
    {
      "cell_type": "code",
      "metadata": {
        "colab": {
          "base_uri": "https://localhost:8080/",
          "height": 1000
        },
        "id": "2zxTOcPNkuiy",
        "outputId": "bab73db4-b00f-4af7-8a01-e1916fd668ba"
      },
      "source": [
        "def dense_model_3():\n",
        "    \n",
        "    model = Sequential()  \n",
        "    model.add(Dense(100, activation='relu', input_dim=784))\n",
        "    model.add(Dense(200, activation='relu')) \n",
        "    model.add(Dense(100, activation='relu')) \n",
        "    model.add(Dense(10, activation='softmax'))\n",
        "         \n",
        "    model.compile(loss='categorical_crossentropy', optimizer='adam', metrics=['accuracy'])\n",
        "    \n",
        "    \n",
        "    return model\n",
        "\n",
        "model_dense_3 = dense_model_3()\n",
        "model_dense_3.summary()\n",
        "\n",
        "history_dense_3 = model_dense_3.fit(X_train, y_train, validation_data=(X_val,y_val_10), \n",
        "                                    epochs=30, batch_size=batchsize)\n",
        "\n",
        "plot_history_loss_and_acc(history_dense_3)\n",
        "\n",
        "pred_val_dense3 = model_dense_3.predict_classes(X_val)\n",
        "plot_confusion_matrix(y_val, pred_val_dense3)\n",
        "print(classification_report(y_val, pred_val_dense3))\n",
        "acc_fc3 = accuracy_score(y_val, pred_val_dense3)\n",
        "print(acc_fc3)\n",
        "\n",
        "print(confusion_matrix(y_val, pred_val_dense3))"
      ],
      "execution_count": null,
      "outputs": [
        {
          "output_type": "stream",
          "text": [
            "Model: \"sequential_7\"\n",
            "_________________________________________________________________\n",
            "Layer (type)                 Output Shape              Param #   \n",
            "=================================================================\n",
            "dense_10 (Dense)             (None, 100)               78500     \n",
            "_________________________________________________________________\n",
            "dense_11 (Dense)             (None, 200)               20200     \n",
            "_________________________________________________________________\n",
            "dense_12 (Dense)             (None, 100)               20100     \n",
            "_________________________________________________________________\n",
            "dense_13 (Dense)             (None, 10)                1010      \n",
            "=================================================================\n",
            "Total params: 119,810\n",
            "Trainable params: 119,810\n",
            "Non-trainable params: 0\n",
            "_________________________________________________________________\n",
            "Epoch 1/30\n",
            "16/16 [==============================] - 0s 24ms/step - loss: 1.7008 - accuracy: 0.5286 - val_loss: 0.9418 - val_accuracy: 0.7610\n",
            "Epoch 2/30\n",
            "16/16 [==============================] - 0s 10ms/step - loss: 0.6790 - accuracy: 0.8110 - val_loss: 0.5377 - val_accuracy: 0.8430\n",
            "Epoch 3/30\n",
            "16/16 [==============================] - 0s 9ms/step - loss: 0.4204 - accuracy: 0.8770 - val_loss: 0.4265 - val_accuracy: 0.8680\n",
            "Epoch 4/30\n",
            "16/16 [==============================] - 0s 9ms/step - loss: 0.3511 - accuracy: 0.8950 - val_loss: 0.3885 - val_accuracy: 0.8830\n",
            "Epoch 5/30\n",
            "16/16 [==============================] - 0s 9ms/step - loss: 0.3012 - accuracy: 0.9084 - val_loss: 0.3536 - val_accuracy: 0.8950\n",
            "Epoch 6/30\n",
            "16/16 [==============================] - 0s 9ms/step - loss: 0.2488 - accuracy: 0.9270 - val_loss: 0.3101 - val_accuracy: 0.9090\n",
            "Epoch 7/30\n",
            "16/16 [==============================] - 0s 9ms/step - loss: 0.2063 - accuracy: 0.9406 - val_loss: 0.2725 - val_accuracy: 0.9070\n",
            "Epoch 8/30\n",
            "16/16 [==============================] - 0s 9ms/step - loss: 0.1941 - accuracy: 0.9422 - val_loss: 0.2698 - val_accuracy: 0.9120\n",
            "Epoch 9/30\n",
            "16/16 [==============================] - 0s 9ms/step - loss: 0.1621 - accuracy: 0.9546 - val_loss: 0.2583 - val_accuracy: 0.9220\n",
            "Epoch 10/30\n",
            "16/16 [==============================] - 0s 9ms/step - loss: 0.1403 - accuracy: 0.9620 - val_loss: 0.2419 - val_accuracy: 0.9260\n",
            "Epoch 11/30\n",
            "16/16 [==============================] - 0s 10ms/step - loss: 0.1152 - accuracy: 0.9716 - val_loss: 0.2336 - val_accuracy: 0.9270\n",
            "Epoch 12/30\n",
            "16/16 [==============================] - 0s 10ms/step - loss: 0.1008 - accuracy: 0.9748 - val_loss: 0.2179 - val_accuracy: 0.9260\n",
            "Epoch 13/30\n",
            "16/16 [==============================] - 0s 10ms/step - loss: 0.0879 - accuracy: 0.9784 - val_loss: 0.2189 - val_accuracy: 0.9270\n",
            "Epoch 14/30\n",
            "16/16 [==============================] - 0s 9ms/step - loss: 0.0754 - accuracy: 0.9842 - val_loss: 0.2241 - val_accuracy: 0.9210\n",
            "Epoch 15/30\n",
            "16/16 [==============================] - 0s 9ms/step - loss: 0.0769 - accuracy: 0.9826 - val_loss: 0.2195 - val_accuracy: 0.9350\n",
            "Epoch 16/30\n",
            "16/16 [==============================] - 0s 9ms/step - loss: 0.0615 - accuracy: 0.9880 - val_loss: 0.2117 - val_accuracy: 0.9380\n",
            "Epoch 17/30\n",
            "16/16 [==============================] - 0s 9ms/step - loss: 0.0509 - accuracy: 0.9902 - val_loss: 0.2180 - val_accuracy: 0.9300\n",
            "Epoch 18/30\n",
            "16/16 [==============================] - 0s 10ms/step - loss: 0.0420 - accuracy: 0.9936 - val_loss: 0.2111 - val_accuracy: 0.9270\n",
            "Epoch 19/30\n",
            "16/16 [==============================] - 0s 10ms/step - loss: 0.0356 - accuracy: 0.9948 - val_loss: 0.2182 - val_accuracy: 0.9330\n",
            "Epoch 20/30\n",
            "16/16 [==============================] - 0s 10ms/step - loss: 0.0338 - accuracy: 0.9948 - val_loss: 0.2263 - val_accuracy: 0.9320\n",
            "Epoch 21/30\n",
            "16/16 [==============================] - 0s 9ms/step - loss: 0.0282 - accuracy: 0.9962 - val_loss: 0.2332 - val_accuracy: 0.9300\n",
            "Epoch 22/30\n",
            "16/16 [==============================] - 0s 9ms/step - loss: 0.0245 - accuracy: 0.9970 - val_loss: 0.2240 - val_accuracy: 0.9290\n",
            "Epoch 23/30\n",
            "16/16 [==============================] - 0s 10ms/step - loss: 0.0196 - accuracy: 0.9986 - val_loss: 0.2326 - val_accuracy: 0.9240\n",
            "Epoch 24/30\n",
            "16/16 [==============================] - 0s 10ms/step - loss: 0.0191 - accuracy: 0.9982 - val_loss: 0.2274 - val_accuracy: 0.9300\n",
            "Epoch 25/30\n",
            "16/16 [==============================] - 0s 9ms/step - loss: 0.0157 - accuracy: 0.9984 - val_loss: 0.2560 - val_accuracy: 0.9320\n",
            "Epoch 26/30\n",
            "16/16 [==============================] - 0s 9ms/step - loss: 0.0467 - accuracy: 0.9880 - val_loss: 0.2679 - val_accuracy: 0.9130\n",
            "Epoch 27/30\n",
            "16/16 [==============================] - 0s 9ms/step - loss: 0.0267 - accuracy: 0.9950 - val_loss: 0.2467 - val_accuracy: 0.9280\n",
            "Epoch 28/30\n",
            "16/16 [==============================] - 0s 10ms/step - loss: 0.0215 - accuracy: 0.9954 - val_loss: 0.3251 - val_accuracy: 0.9230\n",
            "Epoch 29/30\n",
            "16/16 [==============================] - 0s 10ms/step - loss: 0.0944 - accuracy: 0.9724 - val_loss: 0.3160 - val_accuracy: 0.9170\n",
            "Epoch 30/30\n",
            "16/16 [==============================] - 0s 9ms/step - loss: 0.0306 - accuracy: 0.9922 - val_loss: 0.2761 - val_accuracy: 0.9210\n"
          ],
          "name": "stdout"
        },
        {
          "output_type": "display_data",
          "data": {
            "image/png": "[encoded data removed]",
            "text/plain": [
              "<Figure size 864x288 with 2 Axes>"
            ]
          },
          "metadata": {
            "tags": [],
            "needs_background": "light"
          }
        },
        {
          "output_type": "stream",
          "text": [
            "              precision    recall  f1-score   support\n",
            "\n",
            "           0       0.95      0.99      0.97        98\n",
            "           1       0.94      0.99      0.96        96\n",
            "           2       0.91      0.90      0.90       111\n",
            "           3       0.95      0.84      0.89       103\n",
            "           4       0.92      0.97      0.95        99\n",
            "           5       0.78      0.92      0.84        75\n",
            "           6       0.98      0.94      0.96        98\n",
            "           7       0.93      0.96      0.94       117\n",
            "           8       0.88      0.86      0.87        96\n",
            "           9       0.97      0.84      0.90       107\n",
            "\n",
            "    accuracy                           0.92      1000\n",
            "   macro avg       0.92      0.92      0.92      1000\n",
            "weighted avg       0.92      0.92      0.92      1000\n",
            "\n",
            "0.921\n",
            "[[ 97   0   0   0   0   0   0   0   1   0]\n",
            " [  0  95   1   0   0   0   0   0   0   0]\n",
            " [  1   1 100   2   1   2   0   3   1   0]\n",
            " [  1   0   1  87   0  11   0   0   2   1]\n",
            " [  0   0   0   0  96   2   1   0   0   0]\n",
            " [  1   2   1   0   0  69   1   0   1   0]\n",
            " [  1   0   0   0   2   2  92   0   1   0]\n",
            " [  1   0   3   0   1   0   0 112   0   0]\n",
            " [  0   3   4   2   0   1   0   1  83   2]\n",
            " [  0   0   0   1   4   2   0   5   5  90]]\n"
          ],
          "name": "stdout"
        },
        {
          "output_type": "display_data",
          "data": {
            "image/png": "[encoded data removed]",
            "text/plain": [
              "<Figure size 576x576 with 1 Axes>"
            ]
          },
          "metadata": {
            "tags": [],
            "needs_background": "light"
          }
        }
      ]
    },
    {
      "cell_type": "markdown",
      "metadata": {
        "id": "UdVDKmNJk8l_"
      },
      "source": [
        "##Test 1 modèle avec couches convolutionelles"
      ]
    },
    {
      "cell_type": "code",
      "metadata": {
        "colab": {
          "base_uri": "https://localhost:8080/",
          "height": 232
        },
        "id": "D-5TpCCkk7NL",
        "outputId": "ad4f7adf-0db4-42df-ea6b-940a995c9982"
      },
      "source": [
        "y = train[\"label\"]\n",
        "X = train.drop([\"label\"],axis = 1)\n",
        "X_test = test\n",
        "\n",
        "X = X/255.0\n",
        "X_test = X_test/255.0\n",
        "\n",
        "\n",
        "mode = \"edit\"\n",
        "if mode == \"edit\" :\n",
        "    nr_samples = 2000\n",
        "if mode == \"commit\" :    \n",
        "    nr_samples = 30000\n",
        "y_train=y[:nr_samples]\n",
        "X_train=X[:nr_samples]\n",
        "start_ix_val = nr_samples \n",
        "end_ix_val = nr_samples + int(nr_samples/3)\n",
        "y_val=y[start_ix_val:end_ix_val]\n",
        "X_val=X[start_ix_val:end_ix_val]\n",
        "print(\"nr_samples train data:\", nr_samples)\n",
        "print(\"start_ix_val:\", start_ix_val)\n",
        "print(\"end_ix_val:\", end_ix_val)\n",
        "\n",
        "y_train = to_categorical(y_train, 10)\n",
        "y_val_10 = to_categorical(y_val, 10)\n",
        "\n",
        "batchsize = int(nr_samples/15) \n",
        "\n",
        "img_rows, img_cols = 28, 28\n",
        "\n",
        "X_train = X_train.values.reshape(X_train.shape[0], img_rows, img_cols, 1)\n",
        "X_val = X_val.values.reshape(X_val.shape[0], img_rows, img_cols, 1)\n",
        "\n",
        "input_shape = (img_rows, img_cols, 1)\n",
        "\n",
        "X_train.shape\n",
        "y_train.shape\n",
        "\n",
        "batchsize = 128\n",
        "epochs = 20\n",
        "\n",
        "activation = 'relu'\n",
        "adadelta = Adadelta()\n",
        "loss = categorical_crossentropy\n",
        "\n",
        "def cnn_model_1(activation):\n",
        "    \n",
        "    model = Sequential()\n",
        "    \n",
        "    model.add(Conv2D(32, kernel_size=(3, 3), activation=activation, input_shape=input_shape)) \n",
        "    \n",
        "    model.add(Conv2D(64, (3, 3), activation=activation))\n",
        "    model.add(MaxPooling2D(pool_size=(2, 2)))\n",
        "    model.add(Dropout(0.25))\n",
        " \n",
        "    model.add(Flatten())\n",
        "\n",
        "    model.add(Dense(128, activation=activation))\n",
        "    model.add(Dropout(0.5))\n",
        "\n",
        "    model.add(Dense(10, activation='softmax'))\n",
        "\n",
        "    model.compile(loss=loss, optimizer=adadelta, metrics=['accuracy'])\n",
        "\n",
        "    return model\n",
        "\n",
        "model_cnn_1 = cnn_model_1(activation)\n",
        "model_cnn_1.summary()\n",
        "\n",
        "history_cnn_1 = model_cnn_1.fit(X_train, y_train, validation_data=(X_val,y_val_10), \n",
        "                                   epochs=epochs, batch_size=batchsize, verbose=1)\n",
        "plot_history_loss_and_acc(history_cnn_1)\n",
        "pred_val_cnn1 = model_cnn_1.predict_classes(X_val)\n",
        "plot_confusion_matrix(y_val, pred_val_cnn1)\n",
        "print(classification_report(y_val, pred_val_cnn1))\n",
        "acc_cnn1 = accuracy_score(y_val, pred_val_cnn1)\n",
        "print(acc_cnn1)\n"
      ],
      "execution_count": null,
      "outputs": [
        {
          "output_type": "error",
          "ename": "NameError",
          "evalue": "ignored",
          "traceback": [
            "\u001b[0;31m---------------------------------------------------------------------------\u001b[0m",
            "\u001b[0;31mNameError\u001b[0m                                 Traceback (most recent call last)",
            "\u001b[0;32m<ipython-input-1-c551d02b7ee0>\u001b[0m in \u001b[0;36m<module>\u001b[0;34m()\u001b[0m\n\u001b[0;32m----> 1\u001b[0;31m \u001b[0my\u001b[0m \u001b[0;34m=\u001b[0m \u001b[0mtrain\u001b[0m\u001b[0;34m[\u001b[0m\u001b[0;34m\"label\"\u001b[0m\u001b[0;34m]\u001b[0m\u001b[0;34m\u001b[0m\u001b[0;34m\u001b[0m\u001b[0m\n\u001b[0m\u001b[1;32m      2\u001b[0m \u001b[0mX\u001b[0m \u001b[0;34m=\u001b[0m \u001b[0mtrain\u001b[0m\u001b[0;34m.\u001b[0m\u001b[0mdrop\u001b[0m\u001b[0;34m(\u001b[0m\u001b[0;34m[\u001b[0m\u001b[0;34m\"label\"\u001b[0m\u001b[0;34m]\u001b[0m\u001b[0;34m,\u001b[0m\u001b[0maxis\u001b[0m \u001b[0;34m=\u001b[0m \u001b[0;36m1\u001b[0m\u001b[0;34m)\u001b[0m\u001b[0;34m\u001b[0m\u001b[0;34m\u001b[0m\u001b[0m\n\u001b[1;32m      3\u001b[0m \u001b[0mX_test\u001b[0m \u001b[0;34m=\u001b[0m \u001b[0mtest\u001b[0m\u001b[0;34m\u001b[0m\u001b[0;34m\u001b[0m\u001b[0m\n\u001b[1;32m      4\u001b[0m \u001b[0;34m\u001b[0m\u001b[0m\n\u001b[1;32m      5\u001b[0m \u001b[0mX\u001b[0m \u001b[0;34m=\u001b[0m \u001b[0mX\u001b[0m\u001b[0;34m/\u001b[0m\u001b[0;36m255.0\u001b[0m\u001b[0;34m\u001b[0m\u001b[0;34m\u001b[0m\u001b[0m\n",
            "\u001b[0;31mNameError\u001b[0m: name 'train' is not defined"
          ]
        }
      ]
    },
    {
      "cell_type": "markdown",
      "metadata": {
        "id": "v3Y0bBQqmqTT"
      },
      "source": [
        "##Test 2 avec modèle convolutionnel\n"
      ]
    },
    {
      "cell_type": "code",
      "metadata": {
        "colab": {
          "base_uri": "https://localhost:8080/",
          "height": 1000
        },
        "id": "iUiAVFt8muAO",
        "outputId": "f976c001-3451-46a7-f437-b1a1a4f0607b"
      },
      "source": [
        "\n",
        "def cnn_model_2(optimizer,loss):\n",
        "\n",
        "    model = Sequential()\n",
        "\n",
        "    model.add(Conv2D(32, (3, 3), padding = 'Same', activation=\"relu\", input_shape=input_shape ))\n",
        "    model.add(MaxPooling2D(pool_size = (2, 2)))\n",
        "\n",
        "    model.add(Conv2D(32, (3, 3), activation=\"relu\"))\n",
        "    model.add(MaxPooling2D(pool_size = (2, 2)))\n",
        "\n",
        "    model.add(Flatten())\n",
        "\n",
        "    model.add(Dense(256, activation=activation))\n",
        "    model.add(Dense(10, activation='softmax'))\n",
        "\n",
        "    model.compile(optimizer = optimizer, loss = loss, metrics = ['accuracy']) \n",
        "\n",
        "    return model\n",
        "\n",
        "\n",
        "model_cnn_2 = cnn_model_2(adadelta, categorical_crossentropy)\n",
        "model_cnn_2.summary()\n",
        "\n",
        "#model_cnn_2.fit(X_train, y_train, batch_size=batch_size, epochs=epochs)\n",
        "history_cnn_2 = model_cnn_2.fit(X_train, y_train, validation_data=(X_val,y_val_10), \n",
        "                                epochs=epochs, batch_size=150, verbose=1)\n",
        "\n",
        "\n",
        "plot_history_loss_and_acc(history_cnn_2)\n",
        "\n",
        "pred_val_cnn2 = model_cnn_2.predict_classes(X_val)\n",
        "plot_confusion_matrix(y_val, pred_val_cnn2)\n",
        "print(classification_report(y_val, pred_val_cnn2))\n",
        "acc_cnn2 = accuracy_score(y_val, pred_val_cnn2)\n",
        "print(acc_cnn2)\n"
      ],
      "execution_count": null,
      "outputs": [
        {
          "output_type": "stream",
          "text": [
            "Model: \"sequential_26\"\n",
            "_________________________________________________________________\n",
            "Layer (type)                 Output Shape              Param #   \n",
            "=================================================================\n",
            "conv2d_22 (Conv2D)           (None, 28, 28, 32)        320       \n",
            "_________________________________________________________________\n",
            "max_pooling2d_14 (MaxPooling (None, 14, 14, 32)        0         \n",
            "_________________________________________________________________\n",
            "conv2d_23 (Conv2D)           (None, 12, 12, 32)        9248      \n",
            "_________________________________________________________________\n",
            "max_pooling2d_15 (MaxPooling (None, 6, 6, 32)          0         \n",
            "_________________________________________________________________\n",
            "flatten_11 (Flatten)         (None, 1152)              0         \n",
            "_________________________________________________________________\n",
            "dense_58 (Dense)             (None, 256)               295168    \n",
            "_________________________________________________________________\n",
            "dense_59 (Dense)             (None, 10)                2570      \n",
            "=================================================================\n",
            "Total params: 307,306\n",
            "Trainable params: 307,306\n",
            "Non-trainable params: 0\n",
            "_________________________________________________________________\n",
            "Epoch 1/20\n",
            "7/7 [==============================] - 1s 114ms/step - loss: 2.3032 - accuracy: 0.1140 - val_loss: 2.3092 - val_accuracy: 0.0931\n",
            "Epoch 2/20\n",
            "7/7 [==============================] - 1s 96ms/step - loss: 2.3026 - accuracy: 0.1150 - val_loss: 2.3086 - val_accuracy: 0.0931\n",
            "Epoch 3/20\n",
            "7/7 [==============================] - 1s 97ms/step - loss: 2.3020 - accuracy: 0.1150 - val_loss: 2.3081 - val_accuracy: 0.0931\n",
            "Epoch 4/20\n",
            "7/7 [==============================] - 1s 96ms/step - loss: 2.3014 - accuracy: 0.1160 - val_loss: 2.3076 - val_accuracy: 0.0931\n",
            "Epoch 5/20\n",
            "7/7 [==============================] - 1s 96ms/step - loss: 2.3009 - accuracy: 0.1160 - val_loss: 2.3071 - val_accuracy: 0.0931\n",
            "Epoch 6/20\n",
            "7/7 [==============================] - 1s 96ms/step - loss: 2.3003 - accuracy: 0.1160 - val_loss: 2.3066 - val_accuracy: 0.0991\n",
            "Epoch 7/20\n",
            "7/7 [==============================] - 1s 97ms/step - loss: 2.2997 - accuracy: 0.1170 - val_loss: 2.3060 - val_accuracy: 0.0991\n",
            "Epoch 8/20\n",
            "7/7 [==============================] - 1s 97ms/step - loss: 2.2991 - accuracy: 0.1180 - val_loss: 2.3055 - val_accuracy: 0.0991\n",
            "Epoch 9/20\n",
            "7/7 [==============================] - 1s 97ms/step - loss: 2.2986 - accuracy: 0.1190 - val_loss: 2.3050 - val_accuracy: 0.0991\n",
            "Epoch 10/20\n",
            "7/7 [==============================] - 1s 98ms/step - loss: 2.2980 - accuracy: 0.1190 - val_loss: 2.3045 - val_accuracy: 0.0991\n",
            "Epoch 11/20\n",
            "7/7 [==============================] - 1s 97ms/step - loss: 2.2974 - accuracy: 0.1190 - val_loss: 2.3040 - val_accuracy: 0.0991\n",
            "Epoch 12/20\n",
            "7/7 [==============================] - 1s 98ms/step - loss: 2.2968 - accuracy: 0.1200 - val_loss: 2.3034 - val_accuracy: 0.0991\n",
            "Epoch 13/20\n",
            "7/7 [==============================] - 1s 96ms/step - loss: 2.2962 - accuracy: 0.1220 - val_loss: 2.3029 - val_accuracy: 0.0991\n",
            "Epoch 14/20\n",
            "7/7 [==============================] - 1s 97ms/step - loss: 2.2957 - accuracy: 0.1240 - val_loss: 2.3024 - val_accuracy: 0.0991\n",
            "Epoch 15/20\n",
            "7/7 [==============================] - 1s 95ms/step - loss: 2.2951 - accuracy: 0.1240 - val_loss: 2.3019 - val_accuracy: 0.1051\n",
            "Epoch 16/20\n",
            "7/7 [==============================] - 1s 97ms/step - loss: 2.2945 - accuracy: 0.1240 - val_loss: 2.3014 - val_accuracy: 0.1081\n",
            "Epoch 17/20\n",
            "7/7 [==============================] - 1s 97ms/step - loss: 2.2939 - accuracy: 0.1240 - val_loss: 2.3008 - val_accuracy: 0.1081\n",
            "Epoch 18/20\n",
            "7/7 [==============================] - 1s 97ms/step - loss: 2.2934 - accuracy: 0.1280 - val_loss: 2.3003 - val_accuracy: 0.1081\n",
            "Epoch 19/20\n",
            "7/7 [==============================] - 1s 95ms/step - loss: 2.2928 - accuracy: 0.1300 - val_loss: 2.2998 - val_accuracy: 0.1111\n",
            "Epoch 20/20\n",
            "7/7 [==============================] - 1s 98ms/step - loss: 2.2922 - accuracy: 0.1320 - val_loss: 2.2993 - val_accuracy: 0.1111\n"
          ],
          "name": "stdout"
        },
        {
          "output_type": "display_data",
          "data": {
            "image/png": "[encoded data removed]",
            "text/plain": [
              "<Figure size 864x288 with 2 Axes>"
            ]
          },
          "metadata": {
            "tags": []
          }
        },
        {
          "output_type": "stream",
          "text": [
            "/usr/local/lib/python3.6/dist-packages/sklearn/metrics/_classification.py:1272: UndefinedMetricWarning: Precision and F-score are ill-defined and being set to 0.0 in labels with no predicted samples. Use `zero_division` parameter to control this behavior.\n",
            "  _warn_prf(average, modifier, msg_start, len(result))\n"
          ],
          "name": "stderr"
        },
        {
          "output_type": "stream",
          "text": [
            "              precision    recall  f1-score   support\n",
            "\n",
            "           0       0.83      0.22      0.34        23\n",
            "           1       0.00      0.00      0.00        31\n",
            "           2       0.00      0.00      0.00        46\n",
            "           3       0.08      0.04      0.05        28\n",
            "           4       0.00      0.00      0.00        34\n",
            "           5       0.00      0.00      0.00        35\n",
            "           6       0.06      0.14      0.08        36\n",
            "           7       0.13      0.81      0.22        32\n",
            "           8       0.00      0.00      0.00        34\n",
            "           9       0.00      0.00      0.00        34\n",
            "\n",
            "    accuracy                           0.11       333\n",
            "   macro avg       0.11      0.12      0.07       333\n",
            "weighted avg       0.08      0.11      0.06       333\n",
            "\n",
            "0.1111111111111111\n"
          ],
          "name": "stdout"
        },
        {
          "output_type": "display_data",
          "data": {
            "image/png": "[encoded data removed]",
            "text/plain": [
              "<Figure size 576x576 with 1 Axes>"
            ]
          },
          "metadata": {
            "tags": []
          }
        }
      ]
    }
  ]
}