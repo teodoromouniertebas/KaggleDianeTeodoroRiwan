{
 "cells": [
  {
   "cell_type": "markdown",
   "metadata": {},
   "source": [
    "# Exo comparaison reg logistique vs SVM"
   ]
  },
  {
   "cell_type": "code",
   "execution_count": 71,
   "metadata": {},
   "outputs": [],
   "source": [
    "# Librairires utiles\n",
    "import pandas\n",
    "import pandas as pd\n",
    "import numpy as np\n",
    "import matplotlib\n",
    "from matplotlib import pyplot as plt\n",
    "import seaborn as sns\n",
    "import statsmodels.api as sm\n",
    "from sklearn.linear_model import LogisticRegression\n",
    "from sklearn import svm\n",
    "import random as rd"
   ]
  },
  {
   "cell_type": "markdown",
   "metadata": {},
   "source": [
    "  ## Création du jeu de données"
   ]
  },
  {
   "cell_type": "code",
   "execution_count": 72,
   "metadata": {},
   "outputs": [],
   "source": [
    "# On créé un jeu de données aléatoire\n",
    "rd.seed(1)\n",
    "\n",
    "i = 0\n",
    "cat =[]\n",
    "x = []\n",
    "y = []\n",
    "\n",
    "for i in range(0, 150):\n",
    "        f =  rd.randrange(0, 1000, 1) / 1000\n",
    "        x.append(f)\n",
    "\n",
    "        if f > 0.5:\n",
    "            #g = rd.randrange(400, 1000, 1)/1000\n",
    "            g = rd.gauss(800, 150) / 1000\n",
    "            y.append(g)\n",
    "            cat.append(1)\n",
    "        else:\n",
    "            #g = rd.randrange(0, 600, 1)/1000\n",
    "            g = rd.gauss(200, 100) / 1000\n",
    "            y.append(g)\n",
    "            cat.append(0)\n",
    "\n",
    "        i += 1"
   ]
  },
  {
   "cell_type": "code",
   "execution_count": 73,
   "metadata": {},
   "outputs": [
    {
     "data": {
      "text/plain": [
       "0.001"
      ]
     },
     "execution_count": 73,
     "metadata": {},
     "output_type": "execute_result"
    }
   ],
   "source": [
    "max(x)\n",
    "min(x)"
   ]
  },
  {
   "cell_type": "markdown",
   "metadata": {},
   "source": [
    "+ On a donc \"cat\" qui sépare linéairement les y en 0 s'ils n'exèdent pas une certaine valeur, 1 sinon.\n",
    "+ On a l'objet y avec des valeurs allant de 0.002 à 1.19\n",
    "+ On a l'objet x avec des valeurs allant de 0.001 à 0.999"
   ]
  },
  {
   "cell_type": "markdown",
   "metadata": {},
   "source": [
    "### Modification type et mise en forme pour application modèles"
   ]
  },
  {
   "cell_type": "code",
   "execution_count": 74,
   "metadata": {},
   "outputs": [],
   "source": [
    "# On passe le type en mode numeric\n",
    "x = np.array(x)\n",
    "y = np.array(y)\n",
    "cat = np.array(cat)\n",
    "\n",
    "# On recale les données entre -1 et 1 pour pouvoir appliquer la reg logistique\n",
    "x = x.reshape(-1, 1)\n",
    "y = y.reshape(-1, 1)"
   ]
  },
  {
   "cell_type": "code",
   "execution_count": 75,
   "metadata": {},
   "outputs": [
    {
     "name": "stdout",
     "output_type": "stream",
     "text": [
      "<class 'numpy.ndarray'>\n"
     ]
    }
   ],
   "source": [
    "print(type(x))"
   ]
  },
  {
   "cell_type": "code",
   "execution_count": 76,
   "metadata": {},
   "outputs": [
    {
     "name": "stdout",
     "output_type": "stream",
     "text": [
      "<class 'numpy.ndarray'>\n"
     ]
    }
   ],
   "source": [
    "print(type(y))"
   ]
  },
  {
   "cell_type": "code",
   "execution_count": 77,
   "metadata": {},
   "outputs": [
    {
     "name": "stdout",
     "output_type": "stream",
     "text": [
      "<class 'numpy.ndarray'>\n"
     ]
    }
   ],
   "source": [
    "print(type(cat))"
   ]
  },
  {
   "cell_type": "code",
   "execution_count": 78,
   "metadata": {},
   "outputs": [
    {
     "name": "stdout",
     "output_type": "stream",
     "text": [
      "           0                       1\n",
      "0    [0.137]  [0.036708093678303355]\n",
      "1    [0.064]   [0.12415601482026721]\n",
      "2    [0.261]   [0.32483260073967873]\n",
      "3    [0.483]   [0.31419069093111857]\n",
      "4    [0.667]    [0.7251012816505089]\n",
      "..       ...                     ...\n",
      "145  [0.742]    [0.7900253945580772]\n",
      "146  [0.041]   [0.25255499079992916]\n",
      "147  [0.932]     [0.846407871304357]\n",
      "148  [0.551]    [0.8583586009080052]\n",
      "149  [0.614]    [1.0462703765096968]\n",
      "\n",
      "[150 rows x 2 columns]\n"
     ]
    }
   ],
   "source": [
    "# On rassemble X et Y dans un data frame nommé 'var'\n",
    "var = list(zip(x, y))\n",
    "var = pd.DataFrame(var)\n",
    "print(var)"
   ]
  },
  {
   "cell_type": "code",
   "execution_count": 79,
   "metadata": {},
   "outputs": [
    {
     "name": "stdout",
     "output_type": "stream",
     "text": [
      "<class 'pandas.core.frame.DataFrame'>\n"
     ]
    }
   ],
   "source": [
    "print(type(var))"
   ]
  },
  {
   "cell_type": "markdown",
   "metadata": {},
   "source": [
    "## Régression logistique"
   ]
  },
  {
   "cell_type": "code",
   "execution_count": 80,
   "metadata": {},
   "outputs": [
    {
     "data": {
      "text/plain": [
       "LogisticRegression(C=1.0, class_weight=None, dual=False, fit_intercept=True,\n",
       "                   intercept_scaling=1, l1_ratio=None, max_iter=100,\n",
       "                   multi_class='warn', n_jobs=None, penalty='none',\n",
       "                   random_state=None, solver='newton-cg', tol=0.0001, verbose=0,\n",
       "                   warm_start=False)"
      ]
     },
     "execution_count": 80,
     "metadata": {},
     "output_type": "execute_result"
    }
   ],
   "source": [
    "modele_logit = LogisticRegression(penalty='none',solver='newton-cg')\n",
    "modele_logit.fit(var, cat)"
   ]
  },
  {
   "cell_type": "markdown",
   "metadata": {},
   "source": [
    "## SVM"
   ]
  },
  {
   "cell_type": "code",
   "execution_count": 85,
   "metadata": {},
   "outputs": [],
   "source": [
    "# graph ?\n",
    "px, py = np.mgrid[-1:1:.01, -1:1:.01]\n",
    "grid = np.c_[px.ravel(), py.ravel()]\n",
    "probs = modele_logit.predict_proba(grid)[:, 1].reshape(px.shape)"
   ]
  },
  {
   "cell_type": "code",
   "execution_count": 88,
   "metadata": {},
   "outputs": [
    {
     "data": {
      "text/plain": [
       "SVC(C=1000, cache_size=200, class_weight=None, coef0=0.0,\n",
       "    decision_function_shape='ovr', degree=3, gamma=0.001, kernel='linear',\n",
       "    max_iter=-1, probability=False, random_state=None, shrinking=True,\n",
       "    tol=0.001, verbose=False)"
      ]
     },
     "execution_count": 88,
     "metadata": {},
     "output_type": "execute_result"
    }
   ],
   "source": [
    "modele_svm = svm.SVC(gamma = 0.001, C = 1000, kernel = 'linear')\n",
    "modele_svm.fit(var, cat)"
   ]
  },
  {
   "cell_type": "markdown",
   "metadata": {},
   "source": [
    "### Graph de comparaison"
   ]
  },
  {
   "cell_type": "code",
   "execution_count": 89,
   "metadata": {},
   "outputs": [
    {
     "data": {
      "text/plain": [
       "[<matplotlib.lines.Line2D at 0x134f137d0>]"
      ]
     },
     "execution_count": 89,
     "metadata": {},
     "output_type": "execute_result"
    },
    {
     "data": {
      "image/png": "[encoded data removed]",
      "text/plain": [
       "<Figure size 432x288 with 1 Axes>"
      ]
     },
     "metadata": {
      "needs_background": "light"
     },
     "output_type": "display_data"
    }
   ],
   "source": [
    "df = pd.DataFrame(list(zip(x, y, cat)), columns = ['x', 'y', 'cat'])\n",
    "\n",
    "#print(df.head())\n",
    "\n",
    "groups = df.groupby('cat')\n",
    "\n",
    "#plt.plot(x, y, linestyle = 'none', marker = 'o', color = 'red')\n",
    "\n",
    "fig, ax = plt.subplots()\n",
    "\n",
    "for cat, group in groups:\n",
    "    ax.plot(group.x, group.y, marker = 'o', linestyle = '', ms = 5, label = cat)\n",
    "ax.legend()\n",
    "\n",
    "w = svm_fit.coef_[0]\n",
    "a = -w[0] / w[1]\n",
    "xx = np.linspace(0, 1)\n",
    "yy = a * xx - (svm_fit.intercept_[0]) / w[1]\n",
    "\n",
    "plt.ylim(0, 1.5)\n",
    "\n",
    "plt.plot(xx, yy, 'k-', color = 'blue')"
   ]
  },
  {
   "cell_type": "code",
   "execution_count": null,
   "metadata": {},
   "outputs": [],
   "source": []
  }
 ],
 "metadata": {
  "kernelspec": {
   "display_name": "Python 3",
   "language": "python",
   "name": "python3"
  },
  "language_info": {
   "codemirror_mode": {
    "name": "ipython",
    "version": 3
   },
   "file_extension": ".py",
   "mimetype": "text/x-python",
   "name": "python",
   "nbconvert_exporter": "python",
   "pygments_lexer": "ipython3",
   "version": "3.7.4"
  }
 },
 "nbformat": 4,
 "nbformat_minor": 2
}
